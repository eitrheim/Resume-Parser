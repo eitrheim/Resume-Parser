{
 "cells": [
  {
   "cell_type": "code",
   "execution_count": 426,
   "metadata": {},
   "outputs": [
    {
     "name": "stderr",
     "output_type": "stream",
     "text": [
      "/Users/anneitrheim/anaconda3/lib/python3.6/site-packages/ipykernel_launcher.py:9: SettingWithCopyWarning: \n",
      "A value is trying to be set on a copy of a slice from a DataFrame\n",
      "\n",
      "See the caveats in the documentation: http://pandas.pydata.org/pandas-docs/stable/indexing.html#indexing-view-versus-copy\n",
      "  if __name__ == '__main__':\n"
     ]
    }
   ],
   "source": [
    "import pandas as pd\n",
    "import numpy as np\n",
    "\n",
    "# df = pd.read_csv('data/output/resume_summary.csv')\n",
    "df = pd.read_csv('data/output/resume_parsed.csv')\n",
    "df.drop(['extension'], axis=1, inplace=True)\n",
    "\n",
    "for i in df.index:\n",
    "    df.file_path[i] = df.file_path[i][30:]"
   ]
  },
  {
   "cell_type": "code",
   "execution_count": 427,
   "metadata": {},
   "outputs": [
    {
     "name": "stdout",
     "output_type": "stream",
     "text": [
      "Name    Resume Updated 3.pdf\n",
      "Name: file_path, dtype: object\n"
     ]
    },
    {
     "data": {
      "text/html": [
       "<div>\n",
       "<style scoped>\n",
       "    .dataframe tbody tr th:only-of-type {\n",
       "        vertical-align: middle;\n",
       "    }\n",
       "\n",
       "    .dataframe tbody tr th {\n",
       "        vertical-align: top;\n",
       "    }\n",
       "\n",
       "    .dataframe thead th {\n",
       "        text-align: right;\n",
       "    }\n",
       "</style>\n",
       "<table border=\"1\" class=\"dataframe\">\n",
       "  <thead>\n",
       "    <tr style=\"text-align: right;\">\n",
       "      <th></th>\n",
       "      <th>Name</th>\n",
       "    </tr>\n",
       "  </thead>\n",
       "  <tbody>\n",
       "    <tr>\n",
       "      <th>EducationLocation</th>\n",
       "      <td>0</td>\n",
       "    </tr>\n",
       "    <tr>\n",
       "      <th>ExperienceLocation</th>\n",
       "      <td>911</td>\n",
       "    </tr>\n",
       "    <tr>\n",
       "      <th>AdditionalLocation</th>\n",
       "      <td>2852</td>\n",
       "    </tr>\n",
       "  </tbody>\n",
       "</table>\n",
       "</div>"
      ],
      "text/plain": [
       "                    Name\n",
       "EducationLocation      0\n",
       "ExperienceLocation   911\n",
       "AdditionalLocation  2852"
      ]
     },
     "execution_count": 427,
     "metadata": {},
     "output_type": "execute_result"
    }
   ],
   "source": [
    "x = pd.DataFrame(df.loc[5])\n",
    "x.columns = ['Name']\n",
    "print(x.loc['file_path'])\n",
    "x[x.Name != -1].drop(['file_path','text'], axis=0).sort_values(by='Name')"
   ]
  },
  {
   "cell_type": "code",
   "execution_count": 428,
   "metadata": {},
   "outputs": [
    {
     "data": {
      "text/plain": [
       "'\\nADDITIONAL \\n\\n\\uf0b7  Proficient in R, Excel VBA, Tableau, Power BI; basic proficiency in Python, Stata, Spanish \\n\\uf0b7  Convinced two of my college friends to hike 500mi with me from France to Portugal; it took us a month \\n\\uf0b7  Avid podcast listener (anything politics-related); bad but enthusiastic skier; lover of spicy foods (cuisine agnostic) \\n\\n\\x0c'"
      ]
     },
     "execution_count": 428,
     "metadata": {},
     "output_type": "execute_result"
    }
   ],
   "source": [
    "df.text.loc[5][2852:]"
   ]
  },
  {
   "cell_type": "code",
   "execution_count": null,
   "metadata": {},
   "outputs": [],
   "source": []
  },
  {
   "cell_type": "code",
   "execution_count": null,
   "metadata": {},
   "outputs": [],
   "source": []
  },
  {
   "cell_type": "code",
   "execution_count": null,
   "metadata": {},
   "outputs": [],
   "source": []
  },
  {
   "cell_type": "code",
   "execution_count": null,
   "metadata": {},
   "outputs": [],
   "source": []
  },
  {
   "cell_type": "code",
   "execution_count": null,
   "metadata": {},
   "outputs": [],
   "source": []
  },
  {
   "cell_type": "code",
   "execution_count": 359,
   "metadata": {},
   "outputs": [],
   "source": [
    "# pd.set_option('max_colwidth', 100)"
   ]
  },
  {
   "cell_type": "code",
   "execution_count": 429,
   "metadata": {},
   "outputs": [],
   "source": [
    "df1 = pd.read_csv('data/output/resume_sections.csv')\n",
    "df1.drop(['extension'], axis=1, inplace=True)\n",
    "\n",
    "for i in df1.index:\n",
    "    df1.file_path[i] = df1.file_path[30:]\n",
    "    for j in ['text', 'Language', 'Edu', 'Work', 'Summaries', 'Skill', 'Member', 'Writing',\n",
    "              'Researching', 'Honor', 'Activity', 'Curriculars']:\n",
    "\n",
    "        df1[j].loc[i] = str(df1[j].loc[i]).replace('\\n',' ')\n",
    "    "
   ]
  },
  {
   "cell_type": "code",
   "execution_count": 446,
   "metadata": {
    "scrolled": false
   },
   "outputs": [
    {
     "data": {
      "text/html": [
       "<div>\n",
       "<style scoped>\n",
       "    .dataframe tbody tr th:only-of-type {\n",
       "        vertical-align: middle;\n",
       "    }\n",
       "\n",
       "    .dataframe tbody tr th {\n",
       "        vertical-align: top;\n",
       "    }\n",
       "\n",
       "    .dataframe thead th {\n",
       "        text-align: right;\n",
       "    }\n",
       "</style>\n",
       "<table border=\"1\" class=\"dataframe\">\n",
       "  <thead>\n",
       "    <tr style=\"text-align: right;\">\n",
       "      <th></th>\n",
       "      <th>14</th>\n",
       "    </tr>\n",
       "  </thead>\n",
       "  <tbody>\n",
       "    <tr>\n",
       "      <th>file_path</th>\n",
       "      <td>Series([], Name: file_path, dtype: object)</td>\n",
       "    </tr>\n",
       "    <tr>\n",
       "      <th>text</th>\n",
       "      <td>Michael Olson    1440 Locust Street #308 u Des Moines, IA  50309 u michaelolson515@gmail.com ...</td>\n",
       "    </tr>\n",
       "    <tr>\n",
       "      <th>Language</th>\n",
       "      <td>nan</td>\n",
       "    </tr>\n",
       "    <tr>\n",
       "      <th>Edu</th>\n",
       "      <td>Education  ___________________________________________________________________________    IOWA ...</td>\n",
       "    </tr>\n",
       "    <tr>\n",
       "      <th>Work</th>\n",
       "      <td>Professional Experience  _______________________________________________________________    PRO...</td>\n",
       "    </tr>\n",
       "    <tr>\n",
       "      <th>Summaries</th>\n",
       "      <td>Objective   ___________________________________________________________________________    To c...</td>\n",
       "    </tr>\n",
       "    <tr>\n",
       "      <th>Skill</th>\n",
       "      <td>nan</td>\n",
       "    </tr>\n",
       "    <tr>\n",
       "      <th>Member</th>\n",
       "      <td>nan</td>\n",
       "    </tr>\n",
       "    <tr>\n",
       "      <th>Writing</th>\n",
       "      <td>nan</td>\n",
       "    </tr>\n",
       "    <tr>\n",
       "      <th>Researching</th>\n",
       "      <td>nan</td>\n",
       "    </tr>\n",
       "    <tr>\n",
       "      <th>Honor</th>\n",
       "      <td>nan</td>\n",
       "    </tr>\n",
       "    <tr>\n",
       "      <th>Activity</th>\n",
       "      <td>nan</td>\n",
       "    </tr>\n",
       "    <tr>\n",
       "      <th>Curriculars</th>\n",
       "      <td>EXTRACURRICULAR / VOLUNTEER EXPERIENCES:    ¨  The National Society of Leadership and Success  ...</td>\n",
       "    </tr>\n",
       "  </tbody>\n",
       "</table>\n",
       "</div>"
      ],
      "text/plain": [
       "                                                                                                              14\n",
       "file_path                                                             Series([], Name: file_path, dtype: object)\n",
       "text            Michael Olson    1440 Locust Street #308 u Des Moines, IA  50309 u michaelolson515@gmail.com ...\n",
       "Language                                                                                                     nan\n",
       "Edu           Education  ___________________________________________________________________________    IOWA ...\n",
       "Work          Professional Experience  _______________________________________________________________    PRO...\n",
       "Summaries     Objective   ___________________________________________________________________________    To c...\n",
       "Skill                                                                                                        nan\n",
       "Member                                                                                                       nan\n",
       "Writing                                                                                                      nan\n",
       "Researching                                                                                                  nan\n",
       "Honor                                                                                                        nan\n",
       "Activity                                                                                                     nan\n",
       "Curriculars   EXTRACURRICULAR / VOLUNTEER EXPERIENCES:    ¨  The National Society of Leadership and Success  ..."
      ]
     },
     "execution_count": 446,
     "metadata": {},
     "output_type": "execute_result"
    }
   ],
   "source": [
    "x = df1.iloc[14]\n",
    "pd.DataFrame(x)"
   ]
  },
  {
   "cell_type": "code",
   "execution_count": 445,
   "metadata": {},
   "outputs": [
    {
     "data": {
      "text/plain": [
       "'COMMUNITY AND PROFESSIONAL OUTREACH       Leadership and Membership in Team-Based Healthcare: small group facilitator                                       January 2017   Oath of a Pharmacist Workshop: small group facilitator                                                                           September 2016    UCDMC Outreach Health Fair: volunteer                                                                                                            July 2016    Goal Ball: volunteer athlete                                                                                                             January 2013–May 2014    Wesley Acres: volunteer         ACTIVITIES      “Difficult Times in Precepting: Navigating Challenging Situations”   §  CHSP West Coast Preceptor Conference  §  Challenging situation script development      SPLICE Initiative Simulation Development            §  California Simulation Alliance, Betty Irene Moor School of Nursing   §  Simulation development       “Gamification of Pharmacy Learning”      §  Sacramento Region Conference, University of the Pacific   §  Co-facilitated “game-based” learning sessions                                           September 2016                        September 2016                                June 2018                                May 2017                          October 2016                     April 2014                       March 2013                                  January 2018   December 2017   September 2016      LEADERSHIP DEVELOPMENT            Lambda Kappa Sigma: Hope WaLKS T-shirt Committee Head and New Member Educator      August 2014- May 2015     College of Pharmacy and Health Sciences:  Honor Code Committee Member                       August 2014–May 2016  Delta Gamma Fraternity: Vice President Social Standards                                                  January 2013–December 2014    Delta Gamma Fraternity: Honor Board Sophomore Member                                              January 2012–December 2013    Alpha Mu Gamma: Vice President, President                                                                             August 2011–August 2013    Student Leadership Development Series: Member                                                                 September 2012–April 2013    Don Adams Leadership Institute: Member                                                                             September 2011–April 2012      '"
      ]
     },
     "execution_count": 445,
     "metadata": {},
     "output_type": "execute_result"
    }
   ],
   "source": [
    "x.Activity"
   ]
  },
  {
   "cell_type": "code",
   "execution_count": null,
   "metadata": {},
   "outputs": [],
   "source": []
  }
 ],
 "metadata": {
  "kernelspec": {
   "display_name": "Python 3",
   "language": "python",
   "name": "python3"
  },
  "language_info": {
   "codemirror_mode": {
    "name": "ipython",
    "version": 3
   },
   "file_extension": ".py",
   "mimetype": "text/x-python",
   "name": "python",
   "nbconvert_exporter": "python",
   "pygments_lexer": "ipython3",
   "version": "3.6.8"
  }
 },
 "nbformat": 4,
 "nbformat_minor": 2
}
