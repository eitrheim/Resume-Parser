{
 "cells": [
  {
   "cell_type": "code",
   "execution_count": 94,
   "metadata": {
    "scrolled": true
   },
   "outputs": [
    {
     "data": {
      "text/plain": [
       "Index(['index', 'file_path', 'extension', 'text', 'Language', 'Work',\n",
       "       'Summaries', 'Skill', 'Member', 'Writing', 'Researching', 'Honor',\n",
       "       'Activity', 'candidate_name', 'email', 'phone', 'GPA', 'certifications',\n",
       "       'latin_honors', 'top_10_universities', 'top_100_universities',\n",
       "       'other_universities', 'major_minor', 'associate_education_level',\n",
       "       'bachelor_education_level', 'master_education_level',\n",
       "       'doctor_education_level', 'courses', 'languages', 'company_foodbev',\n",
       "       'company_other', 'Education', 'Extracurriculars'],\n",
       "      dtype='object')"
      ]
     },
     "execution_count": 94,
     "metadata": {},
     "output_type": "execute_result"
    }
   ],
   "source": [
    "import pandas as pd\n",
    "# pd.set_option('max_colwidth', 100)\n",
    "df = pd.read_csv('data/output/resume_summary.csv')\n",
    "df.columns"
   ]
  },
  {
   "cell_type": "code",
   "execution_count": 95,
   "metadata": {},
   "outputs": [
    {
     "data": {
      "text/plain": [
       "0                                               {'Regis'}\n",
       "1                                               {' ITT '}\n",
       "2                                               {'Intel'}\n",
       "4                        {'Twitter', 'Facebook', 'Regis'}\n",
       "5                                      {'ConocoPhillips'}\n",
       "9                                              {'Nasdaq'}\n",
       "14                                    {'Bank of America'}\n",
       "15                                              {'Regis'}\n",
       "16                          {'Regis', 'American Express'}\n",
       "17             {'Principal Financial', 'JP Morgan Chase'}\n",
       "19                                            {'Chevron'}\n",
       "21                                              {'Regis'}\n",
       "24                                     {'Olin', ' Ball '}\n",
       "25                                      {'Cisco Systems'}\n",
       "28                                  {'Regis', 'Allstate'}\n",
       "29                                              {'Regis'}\n",
       "30                                         {'Nationwide'}\n",
       "33                                             {'Deere '}\n",
       "34                      {'United Parcel Service', ' 3M '}\n",
       "35                       {'Intel', 'Abbott Laboratories'}\n",
       "36      {'Capital One Financial', 'Home Depot', 'Apach...\n",
       "39                     {'Liberty Mutual Insurance Group'}\n",
       "41                                          {'Discovery'}\n",
       "43                          {'Regis', 'FMC Technologies'}\n",
       "48                              {'United Parcel Service'}\n",
       "49                                      {'Cisco Systems'}\n",
       "51                                             {'Oracle'}\n",
       "52                                               {'Visa'}\n",
       "55      {'Boeing', 'United Parcel Service', 'Progressi...\n",
       "57                                              {'Regis'}\n",
       "                              ...                        \n",
       "938                                              {'Olin'}\n",
       "941                                             {'Regis'}\n",
       "947                                           {'Twitter'}\n",
       "953                        {'Microsoft', 'Crane', 'Olin'}\n",
       "956                                              {'Olin'}\n",
       "958                                  {'Regis', 'Gap Inc'}\n",
       "967                                         {'Microsoft'}\n",
       "968                                  {'Regis', 'Gap Inc'}\n",
       "975         {'First American Financial', 'TD Ameritrade'}\n",
       "982                  {'Cisco Systems', 'JP Morgan Chase'}\n",
       "997                           {'US Bancorp', 'Travelers'}\n",
       "1004                                        {'Citigroup'}\n",
       "1005    {'Intel', 'Bank of America', 'Wells Fargo', 'J...\n",
       "1006                                  {'JP Morgan Chase'}\n",
       "1007                          {'US Bancorp', 'Microsoft'}\n",
       "1008                         {' ADP ', 'JP Morgan Chase'}\n",
       "1010                                  {'Bank of America'}\n",
       "1011               {'Bank of America', 'JP Morgan Chase'}\n",
       "1014                                        {'Travelers'}\n",
       "1016                                           {'Disney'}\n",
       "1020                                         {'Facebook'}\n",
       "1022                                           {'Square'}\n",
       "1027                                    {'Yahoo', 'Visa'}\n",
       "1029                                    {'Cisco Systems'}\n",
       "1031                {' Dana ', 'Humana', 'Cisco Systems'}\n",
       "1033                            {'United Parcel Service'}\n",
       "1035             {'Walmart', 'Cerner', 'InterActiveCorp'}\n",
       "1040                                          {'Wayfair'}\n",
       "1055                                            {'Regis'}\n",
       "1058                     {'Southwest Airlines', 'Boeing'}\n",
       "Name: company_other, Length: 340, dtype: object"
      ]
     },
     "execution_count": 95,
     "metadata": {},
     "output_type": "execute_result"
    }
   ],
   "source": [
    "df.company_other[df.company_other == df.company_other]"
   ]
  },
  {
   "cell_type": "code",
   "execution_count": 13,
   "metadata": {},
   "outputs": [],
   "source": [
    "df = pd.read_csv('data/output/resume_summary.csv')\n",
    "df = df.Work\n",
    "df.dropna(inplace=True)\n",
    "df = df.apply(lambda word: word.replace('\\n',' '))\n",
    "# import re\n",
    "# df = df.apply(lambda word: re.sub('[^A-Za-z0-9. ]', '', word))"
   ]
  },
  {
   "cell_type": "code",
   "execution_count": 15,
   "metadata": {},
   "outputs": [
    {
     "data": {
      "text/plain": [
       "' CURRENT ROLE: Content Marketing Coordinator Healthiest State Initiative, June 2018 – Present Lead the creation and execution of content  initiatives to increase awareness of programs,  events and partner organizations, including:  • Manage content calendar and social media • Write blog posts to tell HSI success stories • Design collateral materials and resources • Write and send press releases  • Collaborate with non- and for-profit partners  • Photography and video production   PREVIOUS ROLES: Digital Producer, The Des Moines Register News Assistant, CNN Washington D.C. Digital Desk Assistant, PBS NewsHour  CURRENT & PAST'"
      ]
     },
     "execution_count": 15,
     "metadata": {},
     "output_type": "execute_result"
    }
   ],
   "source": [
    "df[0]"
   ]
  },
  {
   "cell_type": "code",
   "execution_count": 909,
   "metadata": {},
   "outputs": [],
   "source": [
    "# i = 19 and 26 both incorrectly pulling associate degrees"
   ]
  },
  {
   "cell_type": "code",
   "execution_count": 3,
   "metadata": {},
   "outputs": [
    {
     "data": {
      "text/plain": [
       "0"
      ]
     },
     "execution_count": 3,
     "metadata": {},
     "output_type": "execute_result"
    }
   ],
   "source": [
    "i = -1\n",
    "i = i+1\n",
    "i"
   ]
  },
  {
   "cell_type": "code",
   "execution_count": 4,
   "metadata": {},
   "outputs": [
    {
     "data": {
      "text/plain": [
       "index                                                                        0\n",
       "file_path                         ../data/input/resumes/VolunteerResume_LK.pdf\n",
       "extension                                                                 .pdf\n",
       "text                         Lauren Kollauf\\n\\nContent Creator & Nonprofit ...\n",
       "Language                                                                   NaN\n",
       "Work                         \\nCURRENT ROLE:\\nContent Marketing Coordinator...\n",
       "Summaries                    T ME:\\nAfter spending more than five years in ...\n",
       "Skill                                                                      NaN\n",
       "Member                                                                     NaN\n",
       "Writing                                                                    NaN\n",
       "Researching                                                                NaN\n",
       "Honor                                                                      NaN\n",
       "Activity                      VOLUNTEER ROLES:\\nPower Read Mentor, Everybod...\n",
       "candidate_name                                                  Lauren Kollauf\n",
       "email                                           lauren@iowahealthieststate.com\n",
       "phone                                                   ('563', '495', '0357')\n",
       "GPA                                                                         []\n",
       "greeklife                                                       {'fraternity'}\n",
       "certifications                                                             NaN\n",
       "latin_honors                                               {'summa cum laude'}\n",
       "top_10_universities                                                        NaN\n",
       "top_100_universities                                      {'Drake University'}\n",
       "other_universities                                                         NaN\n",
       "major_minor                                    {'Communication', 'Journalism'}\n",
       "associate_education_level                                                  NaN\n",
       "bachelor_education_level                                  {'Bachelor of Arts'}\n",
       "master_education_level                                                     NaN\n",
       "doctor_education_level                                                     NaN\n",
       "courses                                                                    NaN\n",
       "languages                                                                  NaN\n",
       "Education                    EDUCATION & CERTIFICATIONS:\\nDrake University,...\n",
       "Extracurriculars                                                           NaN\n",
       "Name: 0, dtype: object"
      ]
     },
     "execution_count": 4,
     "metadata": {},
     "output_type": "execute_result"
    }
   ],
   "source": [
    "#dont show nas\n",
    "df.iloc[i]#[df.iloc[i] == df.iloc[i]]"
   ]
  },
  {
   "cell_type": "code",
   "execution_count": 932,
   "metadata": {},
   "outputs": [
    {
     "data": {
      "text/plain": [
       "\"{'Journalism', 'Communication'}\""
      ]
     },
     "execution_count": 932,
     "metadata": {},
     "output_type": "execute_result"
    }
   ],
   "source": [
    "df.major_minor[i]"
   ]
  },
  {
   "cell_type": "code",
   "execution_count": 933,
   "metadata": {
    "scrolled": false
   },
   "outputs": [
    {
     "data": {
      "text/plain": [
       "'EDUCATION & CERTIFICATIONS:Drake University, May 2013Bachelor of Arts, Summa Cum LaudeSchool of Journalism & Mass Communication200-hour Registered Yoga Teacher, April 2017CONTACT ME: (563) 495-0357 lauren@iowahealthieststate.com/Lauren-Kollauf\\x0c'"
      ]
     },
     "execution_count": 933,
     "metadata": {},
     "output_type": "execute_result"
    }
   ],
   "source": [
    "df.Education[i].replace('\\n','')"
   ]
  },
  {
   "cell_type": "code",
   "execution_count": 914,
   "metadata": {},
   "outputs": [],
   "source": [
    "## print everything with headers\n",
    "# for col in df.columns[4:]:\n",
    "#     if df[col].iloc[i] != df[col].iloc[i]:\n",
    "#         pass\n",
    "#     else:\n",
    "#         print(col,'\\n',df[col].iloc[i],'\\n\\n-----------------\\n\\n')"
   ]
  },
  {
   "cell_type": "code",
   "execution_count": 865,
   "metadata": {},
   "outputs": [],
   "source": [
    "## See if something prints\n",
    "# myLIST = ['Associate of Arts','A.A.',\" AA \",\n",
    "#           'Associate of Science', 'A.S.',\" AS \",\n",
    "#           'Associate of Applied Science','A.A.S.',\" AAS \"]\n",
    "\n",
    "# for item in myLIST:\n",
    "#     if item in df.Education[i].replace('\\n',''):\n",
    "#         print(item)"
   ]
  },
  {
   "cell_type": "code",
   "execution_count": null,
   "metadata": {},
   "outputs": [],
   "source": []
  },
  {
   "cell_type": "code",
   "execution_count": null,
   "metadata": {},
   "outputs": [],
   "source": []
  },
  {
   "cell_type": "code",
   "execution_count": null,
   "metadata": {},
   "outputs": [],
   "source": []
  },
  {
   "cell_type": "code",
   "execution_count": null,
   "metadata": {},
   "outputs": [],
   "source": []
  },
  {
   "cell_type": "code",
   "execution_count": 96,
   "metadata": {
    "scrolled": false
   },
   "outputs": [],
   "source": [
    "# for i in df.Member[df.Member == df.Member]:\n",
    "#     print(re.sub(' +',' ',i.replace('\\\\n','. ').replace('\\n','. ')))\n",
    "#     print('\\n')"
   ]
  },
  {
   "cell_type": "markdown",
   "metadata": {},
   "source": [
    "# spaCy"
   ]
  },
  {
   "cell_type": "code",
   "execution_count": 96,
   "metadata": {
    "scrolled": false
   },
   "outputs": [],
   "source": [
    "import re\n",
    "import spacy\n",
    "from spacy import displacy\n",
    "from scipy import spatial\n",
    "# nlp = spacy.load(\"en_core_web_sm\") #smaller model\n",
    "nlp = spacy.load(\"en_core_web_lg\") #larger model\n",
    "\n",
    "def detectEntities(doc): # document level entities\n",
    "    for ent in doc.ents:\n",
    "        print(ent.text, ent.start_char, ent.end_char, ent.label_)\n",
    "    displacy.render(doc, style='ent', jupyter=True)\n",
    "\n",
    "def detectSentences(doc): # document level sentences\n",
    "    for sent in doc.sents:\n",
    "        print(\"Sentence: \", sent)"
   ]
  },
  {
   "cell_type": "code",
   "execution_count": 97,
   "metadata": {},
   "outputs": [
    {
     "data": {
      "text/plain": [
       "0    CURRENT ROLEContent Marketing CoordinatorHealt...\n",
       "1    EXPERIENCE  Company  Armstrong Asset managemen...\n",
       "2    EXPERIENCE  Mar 2014  Present UOB Asset Manage...\n",
       "3    WORK EXPERIENCE Northwestern University       ...\n",
       "4    EXPERIENCE  The Des Moines Register  Des Moine...\n",
       "Name: Work, dtype: object"
      ]
     },
     "execution_count": 97,
     "metadata": {},
     "output_type": "execute_result"
    }
   ],
   "source": [
    "x = df.Work[df.Work == df.Work]\n",
    "resumes = x.apply(lambda word: re.sub('[^A-Za-z0-9. ]', '', word))\n",
    "resumes.head()"
   ]
  },
  {
   "cell_type": "code",
   "execution_count": 110,
   "metadata": {},
   "outputs": [
    {
     "data": {
      "text/html": [
       "<div class=\"entities\" style=\"line-height: 2.5; direction: ltr\">EXPERIENCE Compliance Officer at \n",
       "<mark class=\"entity\" style=\"background: #7aecec; padding: 0.45em 0.6em; margin: 0 0.25em; line-height: 1; border-radius: 0.35em; box-decoration-break: clone; -webkit-box-decoration-break: clone\">\n",
       "    Vickers Financial Group S Pte Ltd\n",
       "    <span style=\"font-size: 0.8em; font-weight: bold; line-height: 1; border-radius: 0.35em; text-transform: uppercase; vertical-align: middle; margin-left: 0.5rem\">ORG</span>\n",
       "</mark>\n",
       " \n",
       "<mark class=\"entity\" style=\"background: #bfe1d9; padding: 0.45em 0.6em; margin: 0 0.25em; line-height: 1; border-radius: 0.35em; box-decoration-break: clone; -webkit-box-decoration-break: clone\">\n",
       "    July 2013\n",
       "    <span style=\"font-size: 0.8em; font-weight: bold; line-height: 1; border-radius: 0.35em; text-transform: uppercase; vertical-align: middle; margin-left: 0.5rem\">DATE</span>\n",
       "</mark>\n",
       " to \n",
       "<mark class=\"entity\" style=\"background: #bfe1d9; padding: 0.45em 0.6em; margin: 0 0.25em; line-height: 1; border-radius: 0.35em; box-decoration-break: clone; -webkit-box-decoration-break: clone\">\n",
       "    Present 3 years 7 months\n",
       "    <span style=\"font-size: 0.8em; font-weight: bold; line-height: 1; border-radius: 0.35em; text-transform: uppercase; vertical-align: middle; margin-left: 0.5rem\">DATE</span>\n",
       "</mark>\n",
       " Compliance Duties       Establishing and updating of the fund managers policies and procedures to comply with all the relevant MAS regulations   Conducting of onboarding due diligence for investors ongoing Know Your Customer KYC monitoring \n",
       "<mark class=\"entity\" style=\"background: #bfe1d9; padding: 0.45em 0.6em; margin: 0 0.25em; line-height: 1; border-radius: 0.35em; box-decoration-break: clone; -webkit-box-decoration-break: clone\">\n",
       "    annual\n",
       "    <span style=\"font-size: 0.8em; font-weight: bold; line-height: 1; border-radius: 0.35em; text-transform: uppercase; vertical-align: middle; margin-left: 0.5rem\">DATE</span>\n",
       "</mark>\n",
       " \n",
       "<mark class=\"entity\" style=\"background: #7aecec; padding: 0.45em 0.6em; margin: 0 0.25em; line-height: 1; border-radius: 0.35em; box-decoration-break: clone; -webkit-box-decoration-break: clone\">\n",
       "    AntiMoney Laundering AML\n",
       "    <span style=\"font-size: 0.8em; font-weight: bold; line-height: 1; border-radius: 0.35em; text-transform: uppercase; vertical-align: middle; margin-left: 0.5rem\">ORG</span>\n",
       "</mark>\n",
       " enterprise risk assessment and compliance training for all staff Performing of ongoing compliance procedures such as the monitoring of \n",
       "<mark class=\"entity\" style=\"background: #7aecec; padding: 0.45em 0.6em; margin: 0 0.25em; line-height: 1; border-radius: 0.35em; box-decoration-break: clone; -webkit-box-decoration-break: clone\">\n",
       "    Base Capital and Licensing Conditions Submission\n",
       "    <span style=\"font-size: 0.8em; font-weight: bold; line-height: 1; border-radius: 0.35em; text-transform: uppercase; vertical-align: middle; margin-left: 0.5rem\">ORG</span>\n",
       "</mark>\n",
       " of \n",
       "<mark class=\"entity\" style=\"background: #bfe1d9; padding: 0.45em 0.6em; margin: 0 0.25em; line-height: 1; border-radius: 0.35em; box-decoration-break: clone; -webkit-box-decoration-break: clone\">\n",
       "    quarterly\n",
       "    <span style=\"font-size: 0.8em; font-weight: bold; line-height: 1; border-radius: 0.35em; text-transform: uppercase; vertical-align: middle; margin-left: 0.5rem\">DATE</span>\n",
       "</mark>\n",
       " and \n",
       "<mark class=\"entity\" style=\"background: #bfe1d9; padding: 0.45em 0.6em; margin: 0 0.25em; line-height: 1; border-radius: 0.35em; box-decoration-break: clone; -webkit-box-decoration-break: clone\">\n",
       "    annual\n",
       "    <span style=\"font-size: 0.8em; font-weight: bold; line-height: 1; border-radius: 0.35em; text-transform: uppercase; vertical-align: middle; margin-left: 0.5rem\">DATE</span>\n",
       "</mark>\n",
       " \n",
       "<mark class=\"entity\" style=\"background: #7aecec; padding: 0.45em 0.6em; margin: 0 0.25em; line-height: 1; border-radius: 0.35em; box-decoration-break: clone; -webkit-box-decoration-break: clone\">\n",
       "    MAS\n",
       "    <span style=\"font-size: 0.8em; font-weight: bold; line-height: 1; border-radius: 0.35em; text-transform: uppercase; vertical-align: middle; margin-left: 0.5rem\">ORG</span>\n",
       "</mark>\n",
       " returns \n",
       "<mark class=\"entity\" style=\"background: #7aecec; padding: 0.45em 0.6em; margin: 0 0.25em; line-height: 1; border-radius: 0.35em; box-decoration-break: clone; -webkit-box-decoration-break: clone\">\n",
       "    Performing of Enterprise Risk Assessment\n",
       "    <span style=\"font-size: 0.8em; font-weight: bold; line-height: 1; border-radius: 0.35em; text-transform: uppercase; vertical-align: middle; margin-left: 0.5rem\">ORG</span>\n",
       "</mark>\n",
       " on an \n",
       "<mark class=\"entity\" style=\"background: #bfe1d9; padding: 0.45em 0.6em; margin: 0 0.25em; line-height: 1; border-radius: 0.35em; box-decoration-break: clone; -webkit-box-decoration-break: clone\">\n",
       "    annual\n",
       "    <span style=\"font-size: 0.8em; font-weight: bold; line-height: 1; border-radius: 0.35em; text-transform: uppercase; vertical-align: middle; margin-left: 0.5rem\">DATE</span>\n",
       "</mark>\n",
       " basis Performing of due diligence and \n",
       "<mark class=\"entity\" style=\"background: #bfe1d9; padding: 0.45em 0.6em; margin: 0 0.25em; line-height: 1; border-radius: 0.35em; box-decoration-break: clone; -webkit-box-decoration-break: clone\">\n",
       "    annual\n",
       "    <span style=\"font-size: 0.8em; font-weight: bold; line-height: 1; border-radius: 0.35em; text-transform: uppercase; vertical-align: middle; margin-left: 0.5rem\">DATE</span>\n",
       "</mark>\n",
       " reviews on outsourced service providers       Corresponding with the MAS Officer  Other Duties   Checking of the completeness of all investment documents after each round of funding  Preparing the agreements and other paperwork for share transfers subscription of shares and transfer of partnership interest across all related entities and funds   Handling of company secretarial matters such as the preparation of board resolutions and liaising with the  corporate secretarial agents Filing of \n",
       "<mark class=\"entity\" style=\"background: #7aecec; padding: 0.45em 0.6em; margin: 0 0.25em; line-height: 1; border-radius: 0.35em; box-decoration-break: clone; -webkit-box-decoration-break: clone\">\n",
       "    FATCA\n",
       "    <span style=\"font-size: 0.8em; font-weight: bold; line-height: 1; border-radius: 0.35em; text-transform: uppercase; vertical-align: middle; margin-left: 0.5rem\">ORG</span>\n",
       "</mark>\n",
       " returns for the group and fund entities on an \n",
       "<mark class=\"entity\" style=\"background: #bfe1d9; padding: 0.45em 0.6em; margin: 0 0.25em; line-height: 1; border-radius: 0.35em; box-decoration-break: clone; -webkit-box-decoration-break: clone\">\n",
       "    annual\n",
       "    <span style=\"font-size: 0.8em; font-weight: bold; line-height: 1; border-radius: 0.35em; text-transform: uppercase; vertical-align: middle; margin-left: 0.5rem\">DATE</span>\n",
       "</mark>\n",
       " basis            </div>"
      ],
      "text/plain": [
       "<IPython.core.display.HTML object>"
      ]
     },
     "metadata": {},
     "output_type": "display_data"
    }
   ],
   "source": [
    "doc = nlp(resumes[6])\n",
    "displacy.render(doc, style='ent', jupyter=True)"
   ]
  },
  {
   "cell_type": "code",
   "execution_count": 98,
   "metadata": {
    "scrolled": true
   },
   "outputs": [],
   "source": [
    "# for num in range(0,60):\n",
    "#     try:\n",
    "#         input_string = re.sub('[;-]', ',',df.Summaries[num].replace('\\n',' '))\n",
    "#         input_string = re.sub('[_]', ' ',input_string)\n",
    "#         input_string = re.sub(' +', ' ',input_string)\n",
    "#         print('\\n')\n",
    "#         print(input_string)\n",
    "#         doc = nlp(input_string) \n",
    "#         doc_entities = doc.ents \n",
    "#         for i in doc_entities:\n",
    "#         #     if i.label_ == 'PERSON':\n",
    "#             print(i, '   ', i.label_)\n",
    "#     except:\n",
    "#         pass"
   ]
  },
  {
   "cell_type": "code",
   "execution_count": 578,
   "metadata": {},
   "outputs": [],
   "source": [
    "university_list = set()\n",
    "for i in df.index:\n",
    "    if df.Member[i] == df.Member[i]:\n",
    "\n",
    "        doc = nlp(str(df.Edu[i]).replace('\\\\n', '. ').replace('\\n', '. '))\n",
    "        doc_entities = doc.ents\n",
    "        doc_persons = filter(lambda x: x.label_ == 'ORG', doc_entities)\n",
    "        doc_persons = filter(lambda x: len(x.text.strip().split()) >= 2, doc_persons)\n",
    "        doc_persons = map(lambda x: x.text.strip(), doc_persons)\n",
    "        doc_persons = list(doc_persons)\n",
    "        for j in doc_persons:\n",
    "            university_list.add(j)"
   ]
  },
  {
   "cell_type": "code",
   "execution_count": 579,
   "metadata": {},
   "outputs": [],
   "source": [
    "import numpy as np\n",
    "x = np.array(list(university_list))\n",
    "x = pd.DataFrame(np.sort(x))"
   ]
  },
  {
   "cell_type": "code",
   "execution_count": 97,
   "metadata": {
    "scrolled": true
   },
   "outputs": [],
   "source": [
    "# x"
   ]
  },
  {
   "cell_type": "markdown",
   "metadata": {},
   "source": [
    "https://spacy.io/api/annotation#named-entities\n",
    "TYPE - DESCRIPTION     \n",
    "PERSON - People, including fictional.     \n",
    "NORP - Nationalities or religious or political groups.     \n",
    "FAC - Buildings, airports, highways, bridges, etc.     \n",
    "ORG - Companies, agencies, institutions, etc.     \n",
    "GPE - Countries, cities, states.     \n",
    "LOC - Non-GPE locations, mountain ranges, bodies of water.     \n",
    "PRODUCT - Objects, vehicles, foods, etc. (Not services.)     \n",
    "EVENT - Named hurricanes, battles, wars, sports events, etc.     \n",
    "WORK_OF_ART - Titles of books, songs, etc.     \n",
    "LAW\tNamed - documents made into laws.          \n",
    "LANGUAGE - Any named language.     \n",
    "DATE - Absolute or relative dates or periods.     \n",
    "TIME - Times smaller than a day.     \n",
    "PERCENT - Percentage, including ”%“.     \n",
    "MONEYvMonetary values, including unit.     \n",
    "QUANTITY - Measurements, as of weight or distance.     \n",
    "ORDINAL - “first”, “second”, etc.     \n",
    "CARDINAL - Numerals that do not fall under another type.     "
   ]
  },
  {
   "cell_type": "markdown",
   "metadata": {},
   "source": [
    "## To look at sections of the YAML file:"
   ]
  },
  {
   "cell_type": "code",
   "execution_count": 1,
   "metadata": {},
   "outputs": [],
   "source": [
    "# import yaml\n",
    "\n",
    "# with open('/Users/anneitrheim/PycharmProjects/Capstone/confs/config.yaml', 'r') as stream:\n",
    "#     try:\n",
    "#         data_loaded = yaml.safe_load(stream)\n",
    "#     except yaml.YAMLError as exc:\n",
    "#         print(exc)"
   ]
  },
  {
   "cell_type": "code",
   "execution_count": 3,
   "metadata": {},
   "outputs": [],
   "source": [
    "# import pandas as pd\n",
    "# df = pd.DataFrame()\n",
    "# for i in data_loaded['extractors']['universities']:\n",
    "#     if type(i) == list:\n",
    "#         df = df.append(pd.Series(i), ignore_index=True)\n",
    "#     else:\n",
    "#         df = df.append(pd.Series(i), ignore_index=True)"
   ]
  },
  {
   "cell_type": "code",
   "execution_count": 19,
   "metadata": {},
   "outputs": [],
   "source": [
    "# df.columns = ['one', 'two', 'three']\n",
    "# df.head(6)"
   ]
  },
  {
   "cell_type": "markdown",
   "metadata": {},
   "source": [
    "## For word2vec on the resumes we have in our repo:"
   ]
  },
  {
   "cell_type": "code",
   "execution_count": 98,
   "metadata": {},
   "outputs": [],
   "source": [
    "import pandas as pd\n",
    "import numpy as np\n",
    "\n",
    "df = pd.read_csv('data/output/resume_summary.csv')\n",
    "df.drop(['extension'], axis=1, inplace=True)"
   ]
  },
  {
   "cell_type": "code",
   "execution_count": 99,
   "metadata": {},
   "outputs": [],
   "source": [
    "import nltk\n",
    "# nltk.download()\n",
    "from gensim.models import Word2Vec\n",
    "import multiprocessing\n",
    "from nltk.corpus import stopwords \n",
    "from nltk.tokenize import word_tokenize \n",
    "import sys\n",
    "import re"
   ]
  },
  {
   "cell_type": "code",
   "execution_count": 3,
   "metadata": {},
   "outputs": [],
   "source": [
    "# stop_words = set(stopwords.words('english'))\n",
    "   \n",
    "# def remove_stop_words(x):\n",
    "#     try:\n",
    "  \n",
    "#         x = x.replace('___',' ')\n",
    "#         x = x.replace('\\n',' ')\n",
    "#         x = x.replace('\\r',' ')\n",
    "#         x = x.replace('\\t',' ')\n",
    "#         x = x.replace('\\s',' ')\n",
    "\n",
    "#         x = re.sub('[^A-Za-z0-9. ]', '', x)\n",
    "        \n",
    "#         word_tokens = word_tokenize(x)\n",
    "#         filtered_sentence = [w for w in word_tokens if not w in stop_words]\n",
    "#         return ' '.join(filtered_sentence)\n",
    "#     except:\n",
    "#         print(x.values)\n",
    "#         sys.exit(1)"
   ]
  },
  {
   "cell_type": "code",
   "execution_count": 116,
   "metadata": {},
   "outputs": [],
   "source": [
    "from gensim.models.doc2vec import Doc2Vec, TaggedDocument\n",
    "from nltk.corpus import stopwords \n",
    "stop_words = set(stopwords.words('english')) \n",
    "\n",
    "resumes = df.text.apply(lambda word: re.sub('[^A-Za-z0-9. ]', '', word))\n",
    "# store as list of lists of words\n",
    "resumes_ted = []\n",
    "for sent_str in resumes:\n",
    "    tokens = re.sub(r\"[^a-z0-9]+\", \" \", sent_str.lower()).split()\n",
    "    tokens_filtered = [w for w in tokens if not w in stop_words] \n",
    "    resumes_ted.append(tokens_filtered)"
   ]
  },
  {
   "cell_type": "code",
   "execution_count": 117,
   "metadata": {},
   "outputs": [],
   "source": [
    "EMB_DIM=300\n",
    "w2v=Word2Vec(resumes_ted, #the list of split resumes\n",
    "             size=EMB_DIM, #the dimensionality of the embedding vector\n",
    "             window=5, #Maximum distance between the current and predicted word within a sentence\n",
    "             min_count=3, #Ignores all words with total frequency lower than this (to keep only valid real words)\n",
    "             negative=15, #Negative sampling will be used, the int for negative specifies how many “noise words” should be drawn (usually between 5-20)\n",
    "             iter=100, #Number of iterations (epochs) over the corpus\n",
    "             workers=multiprocessing.cpu_count()) #number of threads being used\n",
    "vectors=w2v.wv"
   ]
  },
  {
   "cell_type": "code",
   "execution_count": 125,
   "metadata": {},
   "outputs": [],
   "source": [
    "import numpy as np\n",
    "import matplotlib.pyplot as plt\n",
    "\n",
    "def display_closestwords_tsnescatterplot(model, word):\n",
    "    \n",
    "    arr = np.empty((0,300), dtype='f')\n",
    "    word_labels = [word]\n",
    "\n",
    "    # get close words\n",
    "    close_words = model.similar_by_word(word)\n",
    "    \n",
    "    # add the vector for each of the closest words to the array\n",
    "    arr = np.append(arr, np.array([model[word]]), axis=0)\n",
    "    for wrd_score in close_words:\n",
    "        wrd_vector = model[wrd_score[0]]\n",
    "        word_labels.append(wrd_score[0])\n",
    "        arr = np.append(arr, np.array([wrd_vector]), axis=0)\n",
    "        \n",
    "    # find tsne coords for 2 dimensions\n",
    "    tsne = TSNE(n_components=2, random_state=0)\n",
    "    np.set_printoptions(suppress=True)\n",
    "    Y = tsne.fit_transform(arr)\n",
    "\n",
    "    x_coords = Y[:, 0]\n",
    "    y_coords = Y[:, 1]\n",
    "    # display scatter plot\n",
    "    plt.scatter(x_coords, y_coords)\n",
    "\n",
    "    for label, x, y in zip(word_labels, x_coords, y_coords):\n",
    "        plt.annotate(label, xy=(x, y), xytext=(0, 0), textcoords='offset points')\n",
    "    plt.xlim(x_coords.min()+5, x_coords.max()+5)\n",
    "    plt.ylim(y_coords.min()+5, y_coords.max()+5)\n",
    "    plt.show()"
   ]
  },
  {
   "cell_type": "code",
   "execution_count": 127,
   "metadata": {
    "scrolled": false
   },
   "outputs": [
    {
     "name": "stderr",
     "output_type": "stream",
     "text": [
      "/Users/anneitrheim/anaconda3/lib/python3.6/site-packages/ipykernel_launcher.py:10: DeprecationWarning: Call to deprecated `similar_by_word` (Method will be removed in 4.0.0, use self.wv.similar_by_word() instead).\n",
      "  # Remove the CWD from sys.path while we load stuff.\n",
      "/Users/anneitrheim/anaconda3/lib/python3.6/site-packages/ipykernel_launcher.py:13: DeprecationWarning: Call to deprecated `__getitem__` (Method will be removed in 4.0.0, use self.wv.__getitem__() instead).\n",
      "  del sys.path[0]\n",
      "/Users/anneitrheim/anaconda3/lib/python3.6/site-packages/ipykernel_launcher.py:15: DeprecationWarning: Call to deprecated `__getitem__` (Method will be removed in 4.0.0, use self.wv.__getitem__() instead).\n",
      "  from ipykernel import kernelapp as app\n"
     ]
    },
    {
     "data": {
      "image/png": "[encoded data removed]",
      "text/plain": [
       "<Figure size 432x288 with 1 Axes>"
      ]
     },
     "metadata": {
      "needs_background": "light"
     },
     "output_type": "display_data"
    },
    {
     "data": {
      "text/plain": [
       "[('expertise', 0.3672398328781128),\n",
       " ('handsonexperience', 0.367159903049469),\n",
       " ('experienced', 0.3432784378528595),\n",
       " ('knowledge', 0.32723695039749146),\n",
       " ('experienceadobe', 0.31813398003578186),\n",
       " ('accomplished', 0.30926382541656494),\n",
       " ('background', 0.2983399033546448),\n",
       " ('skills', 0.2980385422706604),\n",
       " ('seasoned', 0.29302236437797546),\n",
       " ('fulltime', 0.29282814264297485)]"
      ]
     },
     "execution_count": 127,
     "metadata": {},
     "output_type": "execute_result"
    }
   ],
   "source": [
    "display_closestwords_tsnescatterplot(w2v, 'experience')\n",
    "vectors.most_similar(positive=['experience'])"
   ]
  },
  {
   "cell_type": "code",
   "execution_count": 134,
   "metadata": {},
   "outputs": [
    {
     "name": "stdout",
     "output_type": "stream",
     "text": [
      "[t-SNE] Computing 91 nearest neighbors...\n",
      "[t-SNE] Indexed 15204 samples in 0.125s...\n",
      "[t-SNE] Computed neighbors for 15204 samples in 128.863s...\n",
      "[t-SNE] Computed conditional probabilities for sample 1000 / 15204\n",
      "[t-SNE] Computed conditional probabilities for sample 2000 / 15204\n",
      "[t-SNE] Computed conditional probabilities for sample 3000 / 15204\n",
      "[t-SNE] Computed conditional probabilities for sample 4000 / 15204\n",
      "[t-SNE] Computed conditional probabilities for sample 5000 / 15204\n",
      "[t-SNE] Computed conditional probabilities for sample 6000 / 15204\n",
      "[t-SNE] Computed conditional probabilities for sample 7000 / 15204\n",
      "[t-SNE] Computed conditional probabilities for sample 8000 / 15204\n",
      "[t-SNE] Computed conditional probabilities for sample 9000 / 15204\n",
      "[t-SNE] Computed conditional probabilities for sample 10000 / 15204\n",
      "[t-SNE] Computed conditional probabilities for sample 11000 / 15204\n",
      "[t-SNE] Computed conditional probabilities for sample 12000 / 15204\n",
      "[t-SNE] Computed conditional probabilities for sample 13000 / 15204\n",
      "[t-SNE] Computed conditional probabilities for sample 14000 / 15204\n",
      "[t-SNE] Computed conditional probabilities for sample 15000 / 15204\n",
      "[t-SNE] Computed conditional probabilities for sample 15204 / 15204\n",
      "[t-SNE] Mean sigma: 2.032503\n",
      "[t-SNE] KL divergence after 250 iterations with early exaggeration: 120.806923\n",
      "[t-SNE] KL divergence after 1000 iterations: 4.335135\n"
     ]
    }
   ],
   "source": [
    "from sklearn.manifold import TSNE\n",
    "import numpy as np\n",
    "import matplotlib.pyplot as plt\n",
    "\n",
    "from sklearn.preprocessing import StandardScaler\n",
    "\n",
    "# Standardizing the features\n",
    "x = StandardScaler().fit_transform(pd.DataFrame(w2v.wv.vectors)) #useful?\n",
    "\n",
    "tsne = TSNE(n_components=2,\n",
    "            perplexity=30,\n",
    "            learning_rate=200, #1000 would be a ball\n",
    "            verbose=1,\n",
    "            random_state=0)\n",
    "np.set_printoptions(suppress=True)\n",
    "Y = tsne.fit_transform(x)"
   ]
  },
  {
   "cell_type": "code",
   "execution_count": 135,
   "metadata": {},
   "outputs": [
    {
     "data": {
      "image/png": "[encoded data removed]",
      "text/plain": [
       "<Figure size 1080x576 with 1 Axes>"
      ]
     },
     "metadata": {
      "needs_background": "light"
     },
     "output_type": "display_data"
    }
   ],
   "source": [
    "plt.figure(figsize=(15, 8))\n",
    "plt.scatter(Y[:, 0], Y[:, 1])\n",
    "for label, x, y in zip(w2v.wv.vocab, Y[:, 0], Y[:, 1]):\n",
    "    if w2v.wv.vocab[label].count > 1000:\n",
    "        plt.annotate(label, xy=(x, y), xytext=(0, 0), textcoords='offset points')\n",
    "#     elif label ==\n",
    "plt.show()"
   ]
  },
  {
   "cell_type": "code",
   "execution_count": 9,
   "metadata": {},
   "outputs": [],
   "source": [
    "#cooler way\n",
    "#https://github.com/anvaka/word2vec-graph"
   ]
  },
  {
   "cell_type": "markdown",
   "metadata": {},
   "source": [
    "## Looking to see if it parsed correctly:"
   ]
  },
  {
   "cell_type": "code",
   "execution_count": null,
   "metadata": {},
   "outputs": [],
   "source": [
    "# pd.set_option('max_colwidth', 100)"
   ]
  },
  {
   "cell_type": "code",
   "execution_count": 159,
   "metadata": {},
   "outputs": [],
   "source": [
    "import pandas as pd\n",
    "df1 = pd.read_csv('data/output/resume_summary.csv')\n",
    "# df1.drop(['extension'], axis=1, inplace=True)\n",
    "\n",
    "# import re\n",
    "# def remove_stop_words(x):\n",
    "#     x = str(x)\n",
    "#     x = x.replace('___',' ')\n",
    "#     x = x.replace('\\n',' ')\n",
    "#     x = x.replace('\\r',' ')\n",
    "#     x = x.replace('\\t',' ')\n",
    "#     x = x.replace('\\s',' ')\n",
    "#     x = x.replace('   ',' ')\n",
    "#     return x\n",
    "\n",
    "# # df1['text']=df1['text'].apply(remove_stop_words)\n",
    "# df1['Language']=df1['Language'].apply(remove_stop_words)\n",
    "# df1['Edu']=df1['Edu'].apply(remove_stop_words)\n",
    "# df1['Work']=df1['Work'].apply(remove_stop_words)\n",
    "# df1['Summaries']=df1['Summaries'].apply(remove_stop_words)\n",
    "# df1['Skill']=df1['Skill'].apply(remove_stop_words)\n",
    "# df1['Member']=df1['Member'].apply(remove_stop_words)\n",
    "# df1['Writing']=df1['Writing'].apply(remove_stop_words)\n",
    "# df1['Researching']=df1['Researching'].apply(remove_stop_words)\n",
    "# df1['Honor']=df1['Honor'].apply(remove_stop_words)\n",
    "# df1['Activity']=df1['Activity'].apply(remove_stop_words)\n",
    "# df1['Curriculars']=df1['Curriculars'].apply(remove_stop_words)"
   ]
  },
  {
   "cell_type": "code",
   "execution_count": 25,
   "metadata": {},
   "outputs": [
    {
     "data": {
      "text/html": [
       "<div>\n",
       "<style scoped>\n",
       "    .dataframe tbody tr th:only-of-type {\n",
       "        vertical-align: middle;\n",
       "    }\n",
       "\n",
       "    .dataframe tbody tr th {\n",
       "        vertical-align: top;\n",
       "    }\n",
       "\n",
       "    .dataframe thead th {\n",
       "        text-align: right;\n",
       "    }\n",
       "</style>\n",
       "<table border=\"1\" class=\"dataframe\">\n",
       "  <thead>\n",
       "    <tr style=\"text-align: right;\">\n",
       "      <th></th>\n",
       "      <th>35</th>\n",
       "    </tr>\n",
       "  </thead>\n",
       "  <tbody>\n",
       "    <tr>\n",
       "      <th>file_path</th>\n",
       "      <td>../data/input/resumes/Omar Resume 6.2019 wigg.pdf</td>\n",
       "    </tr>\n",
       "    <tr>\n",
       "      <th>text</th>\n",
       "      <td>220 E. Illinois | Chicago, IL 60661 | 617-955-...</td>\n",
       "    </tr>\n",
       "    <tr>\n",
       "      <th>ProfessionalTraining</th>\n",
       "      <td>NaN</td>\n",
       "    </tr>\n",
       "    <tr>\n",
       "      <th>Language</th>\n",
       "      <td>LANGUAGES   Technical: R, Python, VBA, SQL, MS...</td>\n",
       "    </tr>\n",
       "    <tr>\n",
       "      <th>Edu</th>\n",
       "      <td>EDUCATION  University of Chicago | Chicago, IL...</td>\n",
       "    </tr>\n",
       "    <tr>\n",
       "      <th>Work</th>\n",
       "      <td>PROFESSIONAL EXPERIENCE    NIMBL, Techedge Gr...</td>\n",
       "    </tr>\n",
       "    <tr>\n",
       "      <th>Summaries</th>\n",
       "      <td>nan</td>\n",
       "    </tr>\n",
       "    <tr>\n",
       "      <th>Skill</th>\n",
       "      <td>SKILLS AND</td>\n",
       "    </tr>\n",
       "    <tr>\n",
       "      <th>Member</th>\n",
       "      <td>nan</td>\n",
       "    </tr>\n",
       "    <tr>\n",
       "      <th>Writing</th>\n",
       "      <td>nan</td>\n",
       "    </tr>\n",
       "    <tr>\n",
       "      <th>Researching</th>\n",
       "      <td>RESEARCH EXPERIENCE Kraft Heinz People Analyt...</td>\n",
       "    </tr>\n",
       "    <tr>\n",
       "      <th>Honor</th>\n",
       "      <td>nan</td>\n",
       "    </tr>\n",
       "    <tr>\n",
       "      <th>Activity</th>\n",
       "      <td>nan</td>\n",
       "    </tr>\n",
       "    <tr>\n",
       "      <th>Curriculars</th>\n",
       "      <td>CO-CURRICULARS  Photography: photography-omar...</td>\n",
       "    </tr>\n",
       "  </tbody>\n",
       "</table>\n",
       "</div>"
      ],
      "text/plain": [
       "                                                                     35\n",
       "file_path             ../data/input/resumes/Omar Resume 6.2019 wigg.pdf\n",
       "text                  220 E. Illinois | Chicago, IL 60661 | 617-955-...\n",
       "ProfessionalTraining                                                NaN\n",
       "Language              LANGUAGES   Technical: R, Python, VBA, SQL, MS...\n",
       "Edu                   EDUCATION  University of Chicago | Chicago, IL...\n",
       "Work                   PROFESSIONAL EXPERIENCE    NIMBL, Techedge Gr...\n",
       "Summaries                                                           nan\n",
       "Skill                                                       SKILLS AND \n",
       "Member                                                              nan\n",
       "Writing                                                             nan\n",
       "Researching            RESEARCH EXPERIENCE Kraft Heinz People Analyt...\n",
       "Honor                                                               nan\n",
       "Activity                                                            nan\n",
       "Curriculars            CO-CURRICULARS  Photography: photography-omar..."
      ]
     },
     "execution_count": 25,
     "metadata": {},
     "output_type": "execute_result"
    }
   ],
   "source": [
    "x = df1.iloc[35]\n",
    "pd.DataFrame(x)"
   ]
  },
  {
   "cell_type": "code",
   "execution_count": 36,
   "metadata": {},
   "outputs": [
    {
     "data": {
      "text/plain": [
       "'220 E. Illinois | Chicago, IL 60661 | 617-955-7304 | oalshaye@uchicago.edu \\n\\nOmar ALShaye \\n\\n \\n\\nEDUCATION \\n\\n \\n\\nUniversity of Chicago | Chicago, IL                                                                                            Expected Winter 2020 \\nMaster of Science in Analytics, Data Science \\n\\n▪  Coursework: Statistical Analysis, Machine Learning, Optimization, Deep Learning, Data Mining, \\n\\nBusiness Applications, Data Engineering Platforms, Non-Linear Models, Big Data, Time Series \\n\\n \\nRensselaer Polytechnic Institute | Troy, NY                                                                                              May 2018 \\nDual Bachelors of Science in Industrial Management Engineering – Economics                   \\n\\n▪  Honors: Cum Laude, Rensselaer Founders Award of Excellence, Ray Palmer Baker Prize for Excellence in \\n\\nSystems Engineering, Alpha Pi Mu Honors Society Certificate of Excellence in Industrial Engineering  \\n\\n \\n\\n \\nPROFESSIONAL EXPERIENCE \\n\\n \\n\\n \\n\\n \\n\\nNIMBL, Techedge Group | Chicago, IL                                                                            June 2019 – September 2019 \\nData Intelligence Practice – Junior Consultant \\n\\n▪  Provided predictive analytics solutions for Fortune 500 CPG and Automotive clients; utilizing machine learning, \\n\\ndeep learning (computer vision), operations research, and statistical modeling techniques on R and Python  \\n\\n▪  Built visual dashboards for performance management and resource/financial planning on SAP Analytics Cloud \\n▪ \\nInvestigated a new SAP Analytics Cloud client solution that integrates R based predictive modeling capabilities  \\n\\n \\n\\nAbbott Laboratories (contract by Hiregenics) | Lake Forest, IL                                                         May 2017 – August 2017 \\nSupply Chain Operations Intern  \\n\\n▪  Built VBA algorithm to optimize box utilization (N-P problem); reduced average chargeable shipment cost by        \\n\\n29.9%, increased box utilization by 12.1%, reduced average shipment volume by 297.4 inch3 \\n▪  Performed trend analysis for top tier customers to quantify benefits of order consolidation  \\n▪  Simulated packing area using Arena; recommendation reduced packing time by 2.8 minutes per unit \\n▪  Studied outbound dock using pallet density hourly data; proposed dock composite performance index \\n\\n \\n\\n \\n\\nRESEARCH EXPERIENCE \\n\\nKraft Heinz People Analytics | Chicago, IL                                                                                 March 2019 – Present \\nCapstone Project: In and Out Analysis \\n\\n▪  Designed a supervised machine learning model to predict employee churn date and likely destination \\n▪  Built a supervised machine learning model to predict probability of recruitment success for a given candidate \\n\\nShared Vehicle Routing | Troy, NY                                                                                      May 2017 – August 2017 \\nResearcher for Professor Jennifer Pazour’s OnRout team  \\n\\n▪  Performed shared vehicle routing analysis for startup company OnRout to analyze duplicate effort by couriers \\n▪  Suggested optimal level of courier sharing; hypothetical optimal level of sharing increased stops/mile by 28%, \\n\\ndecreased total distance travelled by couriers by 19% \\n\\n▪  Built simulation TSP model for different couriers operating in a common location \\n\\n \\n\\nTelevision Manufacturing Innovation | Troy, NY                                                           January 2016 – August 2017 \\nResearcher for Professor Kenneth Simons  \\n\\n▪  Code industry-wide model for television receiver manufacturing processes and innovations. Observed 259 \\n\\nmanufacturing innovations/processes from 1941 to 1971 \\nIdentify target innovation characteristics yielding maximum economic efficiencies \\n\\n▪ \\n▪  Analyze discrepancies and compare results using Excel, Stata, and R \\n\\n \\n\\n \\n\\nSKILLS AND LANGUAGES \\n\\n \\n\\n \\n\\nTechnical: R, Python, VBA, SQL, MS Office, Tableau, Arena, Julia, SAP, Keras, TensorFlow, Stata, Hadoop, Spark, Neo4j \\nLanguages: English (fluent), Arabic (fluent)  \\n\\n \\n\\n \\n\\nCO-CURRICULARS \\nPhotography: photography-omaralshaye.com; President of UChicago and RPI Photography; Supervised 112 members \\nAlpha Pi Mu Honor Society: Promote Outreach to I.E Community; President of Rensselaer Chapter 2016-2018 \\n\\n \\n\\n \\n\\n \\n\\n\\x0c'"
      ]
     },
     "execution_count": 36,
     "metadata": {},
     "output_type": "execute_result"
    }
   ],
   "source": [
    "x.text"
   ]
  },
  {
   "cell_type": "markdown",
   "metadata": {},
   "source": [
    "# Cleaning up Kaggle data"
   ]
  },
  {
   "cell_type": "code",
   "execution_count": 63,
   "metadata": {},
   "outputs": [],
   "source": [
    "# kaggle = pd.read_csv('~/PycharmProjects/Resume-Parser/data/input/resumes/Kaggle_resume_dataset.csv', usecols=[0, 1, 2])"
   ]
  },
  {
   "cell_type": "code",
   "execution_count": 116,
   "metadata": {},
   "outputs": [],
   "source": [
    "# kaggle.to_csv('~/PycharmProjects/Resume-Parser/data/input/resumes/Kaggle_resume_dataset.csv', index=False)"
   ]
  },
  {
   "cell_type": "code",
   "execution_count": 207,
   "metadata": {},
   "outputs": [
    {
     "data": {
      "text/plain": [
       "5171348"
      ]
     },
     "execution_count": 207,
     "metadata": {},
     "output_type": "execute_result"
    }
   ],
   "source": [
    "import os\n",
    "os.path.getsize('data/input/resumes/Kaggle_resume_dataset.csv')"
   ]
  },
  {
   "cell_type": "code",
   "execution_count": 855,
   "metadata": {},
   "outputs": [],
   "source": [
    "# pd.set_option('max_colwidth', 100)"
   ]
  },
  {
   "cell_type": "code",
   "execution_count": 206,
   "metadata": {
    "scrolled": true
   },
   "outputs": [],
   "source": [
    "# import random\n",
    "# kaggle.text[random.randint(0, len(kaggle))]"
   ]
  },
  {
   "cell_type": "code",
   "execution_count": 204,
   "metadata": {},
   "outputs": [],
   "source": [
    "# for i in kaggle.index:\n",
    "#     if kaggle.text.loc[i].find('PROFESSIONAL ACTIVITIES') != -1:\n",
    "#         print(i)"
   ]
  },
  {
   "cell_type": "code",
   "execution_count": 205,
   "metadata": {
    "scrolled": true
   },
   "outputs": [],
   "source": [
    "# counts = 0\n",
    "# for i in kaggle.index:\n",
    "#     if kaggle.text.loc[i].lower().find('\\\\xa8') != -1:\n",
    "#         kaggle.text.loc[i] = kaggle.text.loc[i].replace('\\\\xa8', '')\n",
    "#         counts = counts + 1\n",
    "# print(counts)"
   ]
  },
  {
   "cell_type": "code",
   "execution_count": 88,
   "metadata": {},
   "outputs": [],
   "source": [
    "# kaggle.drop(830, axis=0, inplace=True)"
   ]
  },
  {
   "cell_type": "code",
   "execution_count": null,
   "metadata": {},
   "outputs": [],
   "source": [
    "# kaggle = kaggle.reset_index(drop=True)"
   ]
  }
 ],
 "metadata": {
  "kernelspec": {
   "display_name": "Python 3",
   "language": "python",
   "name": "python3"
  },
  "language_info": {
   "codemirror_mode": {
    "name": "ipython",
    "version": 3
   },
   "file_extension": ".py",
   "mimetype": "text/x-python",
   "name": "python",
   "nbconvert_exporter": "python",
   "pygments_lexer": "ipython3",
   "version": "3.6.8"
  }
 },
 "nbformat": 4,
 "nbformat_minor": 2
}
