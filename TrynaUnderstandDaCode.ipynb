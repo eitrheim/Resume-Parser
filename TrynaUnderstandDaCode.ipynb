{
 "cells": [
  {
   "cell_type": "code",
   "execution_count": 164,
   "metadata": {
    "scrolled": true
   },
   "outputs": [],
   "source": [
    "import pandas as pd\n",
    "df = pd.read_csv('data/output/resume_summary.csv')\n",
    "# df"
   ]
  },
  {
   "cell_type": "code",
   "execution_count": 144,
   "metadata": {},
   "outputs": [],
   "source": [
    "df = df[['Edu','top_10_universities','top_100_universities', 'associate_education_level', \n",
    "         'bachelor_education_level', 'master_education_level', 'doctor_education_level']]"
   ]
  },
  {
   "cell_type": "code",
   "execution_count": 161,
   "metadata": {},
   "outputs": [],
   "source": [
    "i = 20"
   ]
  },
  {
   "cell_type": "code",
   "execution_count": 165,
   "metadata": {},
   "outputs": [
    {
     "data": {
      "text/plain": [
       "index                                                                       20\n",
       "file_path                        ../data/input/resumes/Vasanthi Kasinathan.pdf\n",
       "extension                                                                 .pdf\n",
       "text                         1 \\n\\n \\n\\n \\n\\n \\n\\n \\n\\nT H E   S E A R C H ...\n",
       "Language                                              LANGUAGE SKILLS \\n \\n\\n \n",
       "Edu                          EDUCATION DETAILS \\n \\n\\n•  SINGAPORE ACCOUNTA...\n",
       "Work                         \\nPROFESSIONAL EXPERIENCE \\n \\nPACIFIC STAR FI...\n",
       "Summaries                                                                  NaN\n",
       "Skill                        \\nTECHNICAL SKILLS \\n \\n\\n•  PROFICIENT IN MIC...\n",
       "Member                                                                     NaN\n",
       "Writing                                                                    NaN\n",
       "Researching                                                                NaN\n",
       "Honor                                                                      NaN\n",
       "Activity                                                                   NaN\n",
       "Curriculars                                                                NaN\n",
       "candidate_name                                                   Raffles Place\n",
       "email                                              office@fundspartnership.com\n",
       "phone                                                      ('', '852', '3478')\n",
       "GPA                                                                         []\n",
       "greeklife                                                                  NaN\n",
       "certifications                                 {'certified public accountant'}\n",
       "top_10_universities                                                        NaN\n",
       "top_100_universities                                                       NaN\n",
       "associate_education_level    {'Associate of Applied Science', 'Associate of...\n",
       "bachelor_education_level                               {'Bachelor of Science'}\n",
       "master_education_level                                      {'Master of Arts'}\n",
       "doctor_education_level                                                     NaN\n",
       "languages                                                                  NaN\n",
       "Name: 20, dtype: object"
      ]
     },
     "execution_count": 165,
     "metadata": {},
     "output_type": "execute_result"
    }
   ],
   "source": [
    "df.iloc[i]"
   ]
  },
  {
   "cell_type": "code",
   "execution_count": 166,
   "metadata": {
    "scrolled": true
   },
   "outputs": [
    {
     "data": {
      "text/plain": [
       "'EDUCATION DETAILS  •  SINGAPORE ACCOUNTANTS ACADEMY    ACCA (1997)   FCCA (2002)  •  INSTITUTE OF BUSINESS STUDIES (1987)   LCCI DIPLOMA IN COST ACCOUNTING  •  METHODIST GIRLS SECONDARY SCHOOL, MALAYSIA (1985)   GCE ‘O’ LEVELS  •  FLUENT IN ENGLISH, MALAY '"
      ]
     },
     "execution_count": 166,
     "metadata": {},
     "output_type": "execute_result"
    }
   ],
   "source": [
    "df.Edu[i].replace('\\n','')"
   ]
  },
  {
   "cell_type": "code",
   "execution_count": 185,
   "metadata": {},
   "outputs": [
    {
     "data": {
      "text/plain": [
       "index                                                                       24\n",
       "file_path                    ../data/input/resumes/Luminance Fund_Saleem La...\n",
       "extension                                                                 .pdf\n",
       "text                         LinkedIn: https://sg.linkedin.com/in/saleemlal...\n",
       "Language                                                                   NaN\n",
       "Edu                          EDUCATION: \\n  Chartered Institute of Managem...\n",
       "Work                         \\nPROFESSIONAL EXPERIENCE:  \\n\\nLUMINANCE FUND...\n",
       "Summaries                                                                  NaN\n",
       "Skill                                                                      NaN\n",
       "Member                                                                     NaN\n",
       "Writing                                                                    NaN\n",
       "Researching                                                                NaN\n",
       "Honor                                                                      NaN\n",
       "Activity                                                                   NaN\n",
       "Curriculars                                                                NaN\n",
       "candidate_name                                                Key Transactions\n",
       "email                                                  saleem.lalani@gmail.com\n",
       "phone                                                                      NaN\n",
       "GPA                                                                         []\n",
       "greeklife                                                                  NaN\n",
       "certifications                                                             NaN\n",
       "top_10_universities                                                        NaN\n",
       "top_100_universities                                                       NaN\n",
       "associate_education_level                                {'Associate of Arts'}\n",
       "bachelor_education_level                             {'Bachelors of Commerce'}\n",
       "master_education_level                                      {'Master of Arts'}\n",
       "doctor_education_level                                                     NaN\n",
       "languages                                                                  NaN\n",
       "Name: 24, dtype: object"
      ]
     },
     "execution_count": 185,
     "metadata": {},
     "output_type": "execute_result"
    }
   ],
   "source": [
    "df.iloc[24]"
   ]
  },
  {
   "cell_type": "code",
   "execution_count": 182,
   "metadata": {},
   "outputs": [
    {
     "data": {
      "text/plain": [
       "\" \\n \\n \\n\\n     \\n   \\n\\n \\n \\n\\nEducation \\n\\nExperience \\n\\nJan 2016 – \\nPresent \\n\\n  \\n\\nLau Peiwen Erwina \\n   +65 90083183 \\nErwina_lau@hotmail.com \\n  Date of Birth:                                                                       29th March 1987 \\n   Residency Status:                                                            Singapore Citizen \\n   Language Proficiency (Spoken and Written):             English, Mandarin \\n   CPA Australia \\n Completed the following professional modules: \\n\\uf0b7  Ethics and governance \\n\\uf0b7  Audit and assurance \\n\\uf0b7  Contemporary Business Issues \\n\\uf0b7 \\nStrategic Management Accounting \\n\\uf0b7 \\nFinancial Reporting \\n Royal Melbourne Institute of Technology  (RMIT) \\n \\uf0b7  Overall GPA 3.082 / 4 Bachelor of Business (Accountancy) with distinction \\n\\uf0b7  Obtained high distinctions for Introductory Accounting, Macroeconomics 1, Financial Accounting and Business \\n        Statistics 1 \\n\\uf0b7  Obtained distinctions for Marketing Principles, Cost Management and Applications, Prices and Markets, \\nSingapore Company Law, Corporate Accounting, Accounting Theory, Small Business and the Accountant, Ethical \\nIssues in Accountancy and Introduction to Organizational Behaviour \\n  Ngee Ann Polytechnic \\n Diploma in Electronic and Computer Engineering (Telecommunication), 2008 \\n\\uf0b7  Overall GPA 3.48 / 4 \\n\\uf0b7  Class representative from 2006-2007 \\n\\uf0b7  Group leader for Final Year Project “Design of PCB Embedded Passive Devices”. \\n\\uf0b7 \\n\\nSelected to provide Ansoft software training for employee of company for this joint industrial collaboration project.\\n\\nXander Investment Management Pte. Ltd. \\nFinance and Compliance Executive \\n \\uf0b7  Review and update Company’s internal polices (i.e. compliance manual, business continuity program \\nmanual, risk management framework manual) to ensure that polices are in-line with the current MAS \\nregulations and guidelines. \\n\\uf0b7  Perform compliance monitoring and liaise with Company’s management and IT personnel to execute \\nFY 2016 business continuity program. \\n\\uf0b7 \\nPerform KYC/AML checks for new investors. \\n\\uf0b7  Other compliance matters (i.e. update of representatives directorships and shareholdings and MAS Surveys) \\n\\uf0b7 \\nPerform quarterly financial accounts and year end statutory financial reporting.  \\n\\uf0b7 \\nPerform operational matters (i.e. preparing of board resolutions, setting up of fund entity and opening of bank \\naccounts)  \\n\\uf0b7 \\nPerform payroll related matters \\n\\uf0b7  Liaise with internal and external auditors\\n\\n\\x0cOct 2013 – \\nNov 2015 \\n\\nErnst & Young LLP \\nFinancial Services \\nSenior 2 \\n\\uf0b7  Understanding of clients' businesses - processes, internal controls and segregation of duties \\n\\uf0b7  Reconciling and analyzing of financial data and reports provided by client to ensure accuracy and compliance \\n     with uniform accounting classifications \\n\\uf0b7  Providing management with suggestions and input on how to improve control and audit mechanisms through \\n        insightful analysis and investigation \\n\\uf0b7  Reviewing of client’s preparation of financial statements and ensuring proper disclosure for the notes of the \\n       financial statement \\n\\uf0b7  Ensure successful timely completion of assigned audit engagement \\n\\uf0b7 \\n\\uf0b7  Review work prepared by junior auditors, ensuring quality in compliance with professional standards \\n\\uf0b7  Communicate with clients on the audit timeline \\n\\uf0b7  Manage a portfolio of 21 audit engagements\\n\\nSupervises and providing guidance to junior auditor \\n\\nSept 2011 - \\nOct 2013 \\n\\nRSM Chio Lim LLP \\nGeneral Audit Associate 2 \\n\\uf0b7  Understanding of clients' businesses - processes, internal controls and segregation of duties \\n\\uf0b7  Reconciling and analyzing of financial data and reports provided by client to ensure accuracy and compliance \\n\\uf0b7  Providing management with suggestions and input on how to improve control and audit mechanisms through \\n\\uf0b7  Ensure successful timely completion of assigned audit engagement \\n\\uf0b7 \\n\\nwith uniform accounting classifications \\ninsightful analysis and investigation \\nPreparation of financial statements and preparation of charts and tables to include in reports\\n\\n\\uf0b7  Assisted the franchisee in research, marketing, finance, human resources and overall operations of the store. \\n\\uf0b7  Co-manage the overall start-up of the franchise which generated the highest sales among other Shihlin outlets \\n\\nJun 2009 -             Shihlin  Franchise at Nex Serangoon \\n2011                      Assistant Manager \\n \\n\\nin their first month of operation. \\n\\n   March -                 BHP Billiton \\n\\nMay 2008             Temporary HR Administrator \\n\\n\\uf0b7 \\n\\uf0b7 \\n\\uf0b7 \\n\\nPerformed timely update of human resource database. \\nFacilitated visa applications for expatriates and employees travelling. \\nInvolved in the planning of orientation activities for new employees. \\n\\n    \\n\\n   \\n\\n \\n\\n \\n \\n \\n\\n\\x0c  Skills and Interests \\n\\uf0b7 \\n\\uf0b7 \\n\\uf0b7  Enjoy playing the piano (obtained Grade 8 certificate) \\n\\uf0b7  Enjoy jogging, swimming, trekking and travelling \\n\\nFluent in Mandarin and English \\nProficient in  Microsoft Office Power Point, Microsoft Office Excel, Microsoft Office Words and GAMx \\n\\n\\x0c\""
      ]
     },
     "execution_count": 182,
     "metadata": {},
     "output_type": "execute_result"
    }
   ],
   "source": [
    "df.text[24]"
   ]
  },
  {
   "cell_type": "code",
   "execution_count": 184,
   "metadata": {},
   "outputs": [
    {
     "data": {
      "text/plain": [
       "'EDUCATION: \\uf0b7  Chartered Institute of Management Accountants (CIMA, UK) (2004) \\uf0b7  Bachelors of Commerce (B.Com) – University of Karachi (1999) \\uf0b7  Learned Mandarin language – Basic level (Jan 2013)    Page 1 of 1 \\x0cSALEEM LALANI Deal Sheet \\uf0a7  Equity Raise: Fitness and Wellness Company (US$ 5 mn) - 2015 Led the  development  of the  financial  plan  and  investor  presentation.  Assessed  debt  options.  Helped  client  develop  ‘new  service lines’. Drafted LOI for new offerings/partnerships. Providing inputs on the legal and corporate structure. Identified and introduced potential investors. Identified sites for new studios. \\uf0a7  Equity Raise: Brokerage Management Technology Solutions Company (US$ 5 mn) - 2015 Provided  critical  inputs  to  the  client  on  financial  and  business  plan.  Helped  develop  Q&A  document  to  articulate  key USPs/competitive advantages of a ‘complicated product-solution’. Identified and approached potential investors including based in the USA, Europe and Asia. Introduced a potential COO and a major potential customer. \\uf0a7  Project Funding: Dinner Theatre Project (US$ 10 mn) - 2014 Developed financial model and investor presentation. Articulated USPs: offtake agreements, advance ticket sales and ‘sweet spot’ in the crowded sector. Developed and analysed potential deal structures with founders’ incentives. Provided introductions to potential vendors: concierge companies and hotel groups. Identifying and introducing potential investors. \\uf0a7  Financial and Business Advisory: Restaurant Company & Proposed F&B Fund  - 2014 Developed financial model and investor presentation for restaurant expansion. Identified corporate governance and management reporting improvements. Developed KPIs for outsourcing the operations.  Developed ‘pitch book-investor presentation’ for a proposed F&B sector fund. Worked with lawyers to develop investment holding company structure. \\uf0a7  Financial and Business Advisory: Pharma OTC Business (US$ 20 mn) - 2013 Developed  financial  plan  and  investor  presentation  for  a  ‘hangover  relief’  OTC  distribution.  Assisted  the  promoter  in  identifying distributors for the GCC region. Assisted in negotiations with the principal vendor in the USA. Lined-up potential investors. \\uf0a7  Buy Side: Global Blue Chip Logistics Company (US$ 20 mn) - 2012 Developed presentation on strategic options for regional expansion. Led market mapping and development of a comprehensive list of potential targets. Approached priority targets for initial discussions and solicited interest in selling. Developed a detailed report on a selected target – assessed strategic fit, financial performance and potential synergies for discussions with client’s global M&A team. Drafted indicative offer letter. Participated and supported in negotiations. \\uf0a7  Business Review and Restructuring: Well-known Family Group based in Saudi Arabia - 2012 Led  the  financial,  commercial  and  operational  reviews  of  a  Group  company  focusing  on  revenue  drivers,  profit  margin  analysis, capital  expenditure,  financial  reporting,  bottlenecks  for  growth  (operational,  capital  and  human  resource),  and  management reporting  structures.  Developed  a  report  covering  key  findings  and  recommendations.  Implemented  a  customized  management reporting template. \\uf0a7  Sell Side: Automation and Energy Management Solutions Company (US$ 20 mn) - 2011  Originated  the  deal.  Developed  the  information  memorandum.  Approached  global  strategic  players  and  international  PE  firms. Initiated  discussions  with  buyers’  corporate  development/M&A  teams,  facilitated  management  meetings  and  Q&A  sessions  for potential buyers.   \\uf0a7  Sell Side: Process Controls Company to a Global Electronics Equipment Manufacturer (US$ 60 mn) - 2010 Developed the winning pitch and deal documents. Co-ordinated buyer’s due diligence and Q&A process. Participated in SPA and price negotiations. Provided support with ad-hoc analysis during negotiations. As a team member helped increase the shareholder proceeds by c. 30% through robust project management, maintaining competitive tension and undertaking analysis to support price expectations. Facilitated completion process with auditors and lawyers. \\uf0a7  Financial Advisory: LPG Terminal & Distribution Company (US$ 15 mn) - 2009 Developed due diligence and strategic analysis report. Revised client’s financial projections based on the analysis.  \\uf0a7  Privatisation of Oil Marketing Company (US$ 1,500 mn) - 2007 Worked  with  McKinsey  &  Co, London  office.  Conducted commercial  due  diligence  and  financial  and  strategic  analysis.  Identified company’s competitive strengths and growth opportunities that had significant value creation opportunities. \\uf0a7  Anchor Transaction, Logistics Sector Private Equity Fund (US$ 100 mn) - 2007 Developed  financial  model  and  investor  presentation.  Co-ordinated  due  diligence  (accounting  and  legal),  legal  structuring  and managed post-acquisition legal documentation process. Developed post-acquisition 100-day plan. \\uf0a7  Privatisation of State Owned Entities (multiple transactions) – 2004 Assisted in preparation of Offer for Sale documents, coordinated with Securities and Exchange Commission (SEC) regarding review of documents, information requests and resolution of queries. Saleem Lalani – Deal Sheet                   Page 1 of 1 \\x0c'"
      ]
     },
     "execution_count": 184,
     "metadata": {},
     "output_type": "execute_result"
    }
   ],
   "source": [
    "df.Edu.iloc[24].replace('\\n','')"
   ]
  },
  {
   "cell_type": "code",
   "execution_count": 170,
   "metadata": {},
   "outputs": [
    {
     "data": {
      "text/plain": [
       "1       {'Master of Arts', 'Master of Business Adminis...\n",
       "3                                   {'Master of Science'}\n",
       "7                                   {'Master of Science'}\n",
       "11      {'Master of Public Policy', 'Master of Arts', ...\n",
       "15                                  {'Master of Science'}\n",
       "18                                  {'Master of Science'}\n",
       "19                                  {'Master of Science'}\n",
       "20                                     {'Master of Arts'}\n",
       "21                {'Master of Science', 'Master of Arts'}\n",
       "24                                     {'Master of Arts'}\n",
       "25                                  {'Master of Science'}\n",
       "34                                  {'Master of Science'}\n",
       "35                                  {'Master of Science'}\n",
       "36                                  {'Master of Science'}\n",
       "37                {'Master of Science', 'Master of Arts'}\n",
       "40                                  {'Master of Science'}\n",
       "41                            {'Master of Public Policy'}\n",
       "43                {'Master of Science', 'Master of Arts'}\n",
       "44                                  {'Master of Science'}\n",
       "49      {'Master of Arts', 'Master of Business Adminis...\n",
       "50                  {'Master of Business Administration'}\n",
       "52      {'Master of Arts', 'Master of Business Adminis...\n",
       "58                                     {'Master of Arts'}\n",
       "60                                  {'Master of Science'}\n",
       "65      {'Master of Arts', 'Master of Business Adminis...\n",
       "76      {'Master of Arts', 'Master of Business Adminis...\n",
       "80                                     {'Master of Arts'}\n",
       "87                {'Master of Science', 'Master of Arts'}\n",
       "97                                {'Master of Education'}\n",
       "100             {'Master of Arts', 'Master of Fine Arts'}\n",
       "                              ...                        \n",
       "910               {'Master of Science', 'Master of Arts'}\n",
       "913                                 {'Master of Science'}\n",
       "915                                    {'Master of Arts'}\n",
       "917                                    {'Master of Arts'}\n",
       "924                                {'Master of Business'}\n",
       "928                               {'Master of Education'}\n",
       "934                                    {'Master of Arts'}\n",
       "942                                 {'Master of Science'}\n",
       "946                                 {'Master of Science'}\n",
       "948          {'Master of Science', 'Master of Education'}\n",
       "950                                 {'Master of Science'}\n",
       "970     {'Master of Arts', 'Master of Business Adminis...\n",
       "977     {'Master of Arts', 'Master of Business Adminis...\n",
       "979                                 {'Master of Science'}\n",
       "985     {'Master of Science', 'Master of Business Admi...\n",
       "994     {'Master of Arts', 'Master of Business Adminis...\n",
       "998                                 {'Master of Science'}\n",
       "1009              {'Master of Science', 'Master of Arts'}\n",
       "1012                                   {'Master of Arts'}\n",
       "1020                                {'Master of Science'}\n",
       "1029            {'Master of Arts', 'Master of Fine Arts'}\n",
       "1031            {'Master of Arts', 'Master of Fine Arts'}\n",
       "1034              {'Master of Science', 'Master of Arts'}\n",
       "1035                {'Master of Business Administration'}\n",
       "1037                                   {'Master of Arts'}\n",
       "1039    {'Master of Arts', 'Master in Public Administr...\n",
       "1042                                {'Master of Science'}\n",
       "1055                                {'Master of Science'}\n",
       "1060                                {'Master of Science'}\n",
       "1063    {'Master of Arts', 'Master of Business Adminis...\n",
       "Name: master_education_level, Length: 237, dtype: object"
      ]
     },
     "execution_count": 170,
     "metadata": {},
     "output_type": "execute_result"
    }
   ],
   "source": [
    "df.master_education_level[df.master_education_level ==df.master_education_level]"
   ]
  },
  {
   "cell_type": "code",
   "execution_count": null,
   "metadata": {},
   "outputs": [],
   "source": []
  },
  {
   "cell_type": "code",
   "execution_count": null,
   "metadata": {},
   "outputs": [],
   "source": []
  },
  {
   "cell_type": "code",
   "execution_count": null,
   "metadata": {},
   "outputs": [],
   "source": []
  },
  {
   "cell_type": "code",
   "execution_count": null,
   "metadata": {},
   "outputs": [],
   "source": []
  },
  {
   "cell_type": "code",
   "execution_count": null,
   "metadata": {},
   "outputs": [],
   "source": []
  },
  {
   "cell_type": "code",
   "execution_count": null,
   "metadata": {},
   "outputs": [],
   "source": []
  },
  {
   "cell_type": "code",
   "execution_count": null,
   "metadata": {},
   "outputs": [],
   "source": []
  },
  {
   "cell_type": "code",
   "execution_count": null,
   "metadata": {},
   "outputs": [],
   "source": []
  },
  {
   "cell_type": "code",
   "execution_count": null,
   "metadata": {},
   "outputs": [],
   "source": []
  },
  {
   "cell_type": "code",
   "execution_count": null,
   "metadata": {},
   "outputs": [],
   "source": []
  },
  {
   "cell_type": "code",
   "execution_count": 96,
   "metadata": {
    "scrolled": false
   },
   "outputs": [],
   "source": [
    "# for i in df.Member[df.Member == df.Member]:\n",
    "#     print(re.sub(' +',' ',i.replace('\\\\n','. ').replace('\\n','. ')))\n",
    "#     print('\\n')"
   ]
  },
  {
   "cell_type": "code",
   "execution_count": 60,
   "metadata": {
    "scrolled": true
   },
   "outputs": [],
   "source": [
    "# import re\n",
    "# import spacy\n",
    "# nlp = spacy.load('en_core_web_sm')"
   ]
  },
  {
   "cell_type": "code",
   "execution_count": 98,
   "metadata": {
    "scrolled": true
   },
   "outputs": [],
   "source": [
    "# for num in range(0,60):\n",
    "#     try:\n",
    "#         input_string = re.sub('[;-]', ',',df.Summaries[num].replace('\\n',' '))\n",
    "#         input_string = re.sub('[_]', ' ',input_string)\n",
    "#         input_string = re.sub(' +', ' ',input_string)\n",
    "#         print('\\n')\n",
    "#         print(input_string)\n",
    "#         doc = nlp(input_string) \n",
    "#         doc_entities = doc.ents \n",
    "#         for i in doc_entities:\n",
    "#         #     if i.label_ == 'PERSON':\n",
    "#             print(i, '   ', i.label_)\n",
    "#     except:\n",
    "#         pass"
   ]
  },
  {
   "cell_type": "code",
   "execution_count": 578,
   "metadata": {},
   "outputs": [],
   "source": [
    "university_list = set()\n",
    "for i in df.index:\n",
    "    if df.Member[i] == df.Member[i]:\n",
    "\n",
    "        doc = nlp(str(df.Edu[i]).replace('\\\\n', '. ').replace('\\n', '. '))\n",
    "        doc_entities = doc.ents\n",
    "        doc_persons = filter(lambda x: x.label_ == 'ORG', doc_entities)\n",
    "        doc_persons = filter(lambda x: len(x.text.strip().split()) >= 2, doc_persons)\n",
    "        doc_persons = map(lambda x: x.text.strip(), doc_persons)\n",
    "        doc_persons = list(doc_persons)\n",
    "        for j in doc_persons:\n",
    "            university_list.add(j)"
   ]
  },
  {
   "cell_type": "code",
   "execution_count": 579,
   "metadata": {},
   "outputs": [],
   "source": [
    "import numpy as np\n",
    "x = np.array(list(university_list))\n",
    "x = pd.DataFrame(np.sort(x))"
   ]
  },
  {
   "cell_type": "code",
   "execution_count": 97,
   "metadata": {
    "scrolled": true
   },
   "outputs": [],
   "source": [
    "# x"
   ]
  },
  {
   "cell_type": "code",
   "execution_count": null,
   "metadata": {},
   "outputs": [],
   "source": []
  },
  {
   "cell_type": "code",
   "execution_count": null,
   "metadata": {},
   "outputs": [],
   "source": []
  },
  {
   "cell_type": "markdown",
   "metadata": {},
   "source": [
    "https://spacy.io/api/annotation#named-entities\n",
    "TYPE\tDESCRIPTION\n",
    "PERSON\tPeople, including fictional.\n",
    "NORP\tNationalities or religious or political groups.\n",
    "FAC\tBuildings, airports, highways, bridges, etc.\n",
    "ORG\tCompanies, agencies, institutions, etc.\n",
    "GPE\tCountries, cities, states.\n",
    "LOC\tNon-GPE locations, mountain ranges, bodies of water.\n",
    "PRODUCT\tObjects, vehicles, foods, etc. (Not services.)\n",
    "EVENT\tNamed hurricanes, battles, wars, sports events, etc.\n",
    "WORK_OF_ART\tTitles of books, songs, etc.\n",
    "LAW\tNamed documents made into laws.\n",
    "LANGUAGE\tAny named language.\n",
    "DATE\tAbsolute or relative dates or periods.\n",
    "TIME\tTimes smaller than a day.\n",
    "PERCENT\tPercentage, including ”%“.\n",
    "MONEY\tMonetary values, including unit.\n",
    "QUANTITY\tMeasurements, as of weight or distance.\n",
    "ORDINAL\t“first”, “second”, etc.\n",
    "CARDINAL\tNumerals that do not fall under another type."
   ]
  },
  {
   "cell_type": "markdown",
   "metadata": {},
   "source": [
    "## To look at sections of the YAML file:"
   ]
  },
  {
   "cell_type": "code",
   "execution_count": 1,
   "metadata": {},
   "outputs": [],
   "source": [
    "# import yaml\n",
    "\n",
    "# with open('/Users/anneitrheim/PycharmProjects/Capstone/confs/config.yaml', 'r') as stream:\n",
    "#     try:\n",
    "#         data_loaded = yaml.safe_load(stream)\n",
    "#     except yaml.YAMLError as exc:\n",
    "#         print(exc)"
   ]
  },
  {
   "cell_type": "code",
   "execution_count": 3,
   "metadata": {},
   "outputs": [],
   "source": [
    "# import pandas as pd\n",
    "# df = pd.DataFrame()\n",
    "# for i in data_loaded['extractors']['universities']:\n",
    "#     if type(i) == list:\n",
    "#         df = df.append(pd.Series(i), ignore_index=True)\n",
    "#     else:\n",
    "#         df = df.append(pd.Series(i), ignore_index=True)"
   ]
  },
  {
   "cell_type": "code",
   "execution_count": 19,
   "metadata": {},
   "outputs": [],
   "source": [
    "# df.columns = ['one', 'two', 'three']\n",
    "# df.head(6)"
   ]
  },
  {
   "cell_type": "markdown",
   "metadata": {},
   "source": [
    "## For word2vec on the resumes we have in our repo:"
   ]
  },
  {
   "cell_type": "code",
   "execution_count": 9,
   "metadata": {},
   "outputs": [],
   "source": [
    "import pandas as pd\n",
    "import numpy as np\n",
    "\n",
    "df = pd.read_csv('data/output/resume_summary.csv')\n",
    "df.drop(['extension'], axis=1, inplace=True)"
   ]
  },
  {
   "cell_type": "code",
   "execution_count": 5,
   "metadata": {},
   "outputs": [],
   "source": [
    "import nltk\n",
    "# nltk.download()\n",
    "from gensim.models import Word2Vec\n",
    "import multiprocessing\n",
    "from nltk.corpus import stopwords \n",
    "from nltk.tokenize import word_tokenize \n",
    "import sys\n",
    "import re"
   ]
  },
  {
   "cell_type": "code",
   "execution_count": 11,
   "metadata": {},
   "outputs": [],
   "source": [
    "stop_words = set(stopwords.words('english'))\n",
    "   \n",
    "def remove_stop_words(x):\n",
    "    try:\n",
    "  \n",
    "        x = x.replace('___',' ')\n",
    "        x = x.replace('\\n',' ')\n",
    "        x = x.replace('\\r',' ')\n",
    "        x = x.replace('\\t',' ')\n",
    "        x = x.replace('\\s',' ')\n",
    "\n",
    "        x = re.sub('[^A-Za-z ]+', '', x)\n",
    "        \n",
    "        word_tokens = word_tokenize(x)\n",
    "        filtered_sentence = [w for w in word_tokens if not w in stop_words]\n",
    "        return ' '.join(filtered_sentence)\n",
    "    except:\n",
    "        print(x.values)\n",
    "        sys.exit(1)"
   ]
  },
  {
   "cell_type": "code",
   "execution_count": 12,
   "metadata": {},
   "outputs": [],
   "source": [
    "from gensim.models.doc2vec import Doc2Vec, TaggedDocument\n",
    "resumes=df['text'].apply(remove_stop_words)\n",
    "# store as list of lists of words\n",
    "resumes_ted = []\n",
    "for sent_str in resumes:\n",
    "    tokens = re.sub(r\"[^a-z0-9]+\", \" \", sent_str.lower()).split()\n",
    "    resumes_ted.append(tokens)"
   ]
  },
  {
   "cell_type": "code",
   "execution_count": 18,
   "metadata": {},
   "outputs": [],
   "source": [
    "EMB_DIM=300\n",
    "w2v=Word2Vec(resumes_ted, #the list of split resumes\n",
    "             size=EMB_DIM, #the dimensionality of the embedding vector\n",
    "             window=5, #Maximum distance between the current and predicted word within a sentence\n",
    "             min_count=3, #Ignores all words with total frequency lower than this (to keep only valid real words)\n",
    "             negative=15, #Negative sampling will be used, the int for negative specifies how many “noise words” should be drawn (usually between 5-20)\n",
    "             iter=20, #Number of iterations (epochs) over the corpus\n",
    "             workers=multiprocessing.cpu_count()) #number of threads being used\n",
    "vectors=w2v.wv"
   ]
  },
  {
   "cell_type": "code",
   "execution_count": 92,
   "metadata": {},
   "outputs": [
    {
     "ename": "NameError",
     "evalue": "name 'vectors' is not defined",
     "output_type": "error",
     "traceback": [
      "\u001b[0;31m---------------------------------------------------------------------------\u001b[0m",
      "\u001b[0;31mNameError\u001b[0m                                 Traceback (most recent call last)",
      "\u001b[0;32m<ipython-input-92-917166681e02>\u001b[0m in \u001b[0;36m<module>\u001b[0;34m\u001b[0m\n\u001b[0;32m----> 1\u001b[0;31m \u001b[0mvectors\u001b[0m\u001b[0;34m.\u001b[0m\u001b[0mmost_similar\u001b[0m\u001b[0;34m(\u001b[0m\u001b[0mpositive\u001b[0m\u001b[0;34m=\u001b[0m\u001b[0;34m[\u001b[0m\u001b[0;34m'university'\u001b[0m\u001b[0;34m]\u001b[0m\u001b[0;34m)\u001b[0m\u001b[0;34m\u001b[0m\u001b[0;34m\u001b[0m\u001b[0m\n\u001b[0m",
      "\u001b[0;31mNameError\u001b[0m: name 'vectors' is not defined"
     ]
    }
   ],
   "source": [
    "vectors.most_similar(positive=['university'])"
   ]
  },
  {
   "cell_type": "markdown",
   "metadata": {},
   "source": [
    "## Looking to see if it parsed correctly:"
   ]
  },
  {
   "cell_type": "code",
   "execution_count": null,
   "metadata": {},
   "outputs": [],
   "source": [
    "# pd.set_option('max_colwidth', 100)"
   ]
  },
  {
   "cell_type": "code",
   "execution_count": 159,
   "metadata": {},
   "outputs": [],
   "source": [
    "import pandas as pd\n",
    "df1 = pd.read_csv('data/output/resume_summary.csv')\n",
    "# df1.drop(['extension'], axis=1, inplace=True)\n",
    "\n",
    "# import re\n",
    "# def remove_stop_words(x):\n",
    "#     x = str(x)\n",
    "#     x = x.replace('___',' ')\n",
    "#     x = x.replace('\\n',' ')\n",
    "#     x = x.replace('\\r',' ')\n",
    "#     x = x.replace('\\t',' ')\n",
    "#     x = x.replace('\\s',' ')\n",
    "#     x = x.replace('   ',' ')\n",
    "#     return x\n",
    "\n",
    "# # df1['text']=df1['text'].apply(remove_stop_words)\n",
    "# df1['Language']=df1['Language'].apply(remove_stop_words)\n",
    "# df1['Edu']=df1['Edu'].apply(remove_stop_words)\n",
    "# df1['Work']=df1['Work'].apply(remove_stop_words)\n",
    "# df1['Summaries']=df1['Summaries'].apply(remove_stop_words)\n",
    "# df1['Skill']=df1['Skill'].apply(remove_stop_words)\n",
    "# df1['Member']=df1['Member'].apply(remove_stop_words)\n",
    "# df1['Writing']=df1['Writing'].apply(remove_stop_words)\n",
    "# df1['Researching']=df1['Researching'].apply(remove_stop_words)\n",
    "# df1['Honor']=df1['Honor'].apply(remove_stop_words)\n",
    "# df1['Activity']=df1['Activity'].apply(remove_stop_words)\n",
    "# df1['Curriculars']=df1['Curriculars'].apply(remove_stop_words)"
   ]
  },
  {
   "cell_type": "code",
   "execution_count": 25,
   "metadata": {},
   "outputs": [
    {
     "data": {
      "text/html": [
       "<div>\n",
       "<style scoped>\n",
       "    .dataframe tbody tr th:only-of-type {\n",
       "        vertical-align: middle;\n",
       "    }\n",
       "\n",
       "    .dataframe tbody tr th {\n",
       "        vertical-align: top;\n",
       "    }\n",
       "\n",
       "    .dataframe thead th {\n",
       "        text-align: right;\n",
       "    }\n",
       "</style>\n",
       "<table border=\"1\" class=\"dataframe\">\n",
       "  <thead>\n",
       "    <tr style=\"text-align: right;\">\n",
       "      <th></th>\n",
       "      <th>35</th>\n",
       "    </tr>\n",
       "  </thead>\n",
       "  <tbody>\n",
       "    <tr>\n",
       "      <th>file_path</th>\n",
       "      <td>../data/input/resumes/Omar Resume 6.2019 wigg.pdf</td>\n",
       "    </tr>\n",
       "    <tr>\n",
       "      <th>text</th>\n",
       "      <td>220 E. Illinois | Chicago, IL 60661 | 617-955-...</td>\n",
       "    </tr>\n",
       "    <tr>\n",
       "      <th>ProfessionalTraining</th>\n",
       "      <td>NaN</td>\n",
       "    </tr>\n",
       "    <tr>\n",
       "      <th>Language</th>\n",
       "      <td>LANGUAGES   Technical: R, Python, VBA, SQL, MS...</td>\n",
       "    </tr>\n",
       "    <tr>\n",
       "      <th>Edu</th>\n",
       "      <td>EDUCATION  University of Chicago | Chicago, IL...</td>\n",
       "    </tr>\n",
       "    <tr>\n",
       "      <th>Work</th>\n",
       "      <td>PROFESSIONAL EXPERIENCE    NIMBL, Techedge Gr...</td>\n",
       "    </tr>\n",
       "    <tr>\n",
       "      <th>Summaries</th>\n",
       "      <td>nan</td>\n",
       "    </tr>\n",
       "    <tr>\n",
       "      <th>Skill</th>\n",
       "      <td>SKILLS AND</td>\n",
       "    </tr>\n",
       "    <tr>\n",
       "      <th>Member</th>\n",
       "      <td>nan</td>\n",
       "    </tr>\n",
       "    <tr>\n",
       "      <th>Writing</th>\n",
       "      <td>nan</td>\n",
       "    </tr>\n",
       "    <tr>\n",
       "      <th>Researching</th>\n",
       "      <td>RESEARCH EXPERIENCE Kraft Heinz People Analyt...</td>\n",
       "    </tr>\n",
       "    <tr>\n",
       "      <th>Honor</th>\n",
       "      <td>nan</td>\n",
       "    </tr>\n",
       "    <tr>\n",
       "      <th>Activity</th>\n",
       "      <td>nan</td>\n",
       "    </tr>\n",
       "    <tr>\n",
       "      <th>Curriculars</th>\n",
       "      <td>CO-CURRICULARS  Photography: photography-omar...</td>\n",
       "    </tr>\n",
       "  </tbody>\n",
       "</table>\n",
       "</div>"
      ],
      "text/plain": [
       "                                                                     35\n",
       "file_path             ../data/input/resumes/Omar Resume 6.2019 wigg.pdf\n",
       "text                  220 E. Illinois | Chicago, IL 60661 | 617-955-...\n",
       "ProfessionalTraining                                                NaN\n",
       "Language              LANGUAGES   Technical: R, Python, VBA, SQL, MS...\n",
       "Edu                   EDUCATION  University of Chicago | Chicago, IL...\n",
       "Work                   PROFESSIONAL EXPERIENCE    NIMBL, Techedge Gr...\n",
       "Summaries                                                           nan\n",
       "Skill                                                       SKILLS AND \n",
       "Member                                                              nan\n",
       "Writing                                                             nan\n",
       "Researching            RESEARCH EXPERIENCE Kraft Heinz People Analyt...\n",
       "Honor                                                               nan\n",
       "Activity                                                            nan\n",
       "Curriculars            CO-CURRICULARS  Photography: photography-omar..."
      ]
     },
     "execution_count": 25,
     "metadata": {},
     "output_type": "execute_result"
    }
   ],
   "source": [
    "x = df1.iloc[35]\n",
    "pd.DataFrame(x)"
   ]
  },
  {
   "cell_type": "code",
   "execution_count": 36,
   "metadata": {},
   "outputs": [
    {
     "data": {
      "text/plain": [
       "'220 E. Illinois | Chicago, IL 60661 | 617-955-7304 | oalshaye@uchicago.edu \\n\\nOmar ALShaye \\n\\n \\n\\nEDUCATION \\n\\n \\n\\nUniversity of Chicago | Chicago, IL                                                                                            Expected Winter 2020 \\nMaster of Science in Analytics, Data Science \\n\\n▪  Coursework: Statistical Analysis, Machine Learning, Optimization, Deep Learning, Data Mining, \\n\\nBusiness Applications, Data Engineering Platforms, Non-Linear Models, Big Data, Time Series \\n\\n \\nRensselaer Polytechnic Institute | Troy, NY                                                                                              May 2018 \\nDual Bachelors of Science in Industrial Management Engineering – Economics                   \\n\\n▪  Honors: Cum Laude, Rensselaer Founders Award of Excellence, Ray Palmer Baker Prize for Excellence in \\n\\nSystems Engineering, Alpha Pi Mu Honors Society Certificate of Excellence in Industrial Engineering  \\n\\n \\n\\n \\nPROFESSIONAL EXPERIENCE \\n\\n \\n\\n \\n\\n \\n\\nNIMBL, Techedge Group | Chicago, IL                                                                            June 2019 – September 2019 \\nData Intelligence Practice – Junior Consultant \\n\\n▪  Provided predictive analytics solutions for Fortune 500 CPG and Automotive clients; utilizing machine learning, \\n\\ndeep learning (computer vision), operations research, and statistical modeling techniques on R and Python  \\n\\n▪  Built visual dashboards for performance management and resource/financial planning on SAP Analytics Cloud \\n▪ \\nInvestigated a new SAP Analytics Cloud client solution that integrates R based predictive modeling capabilities  \\n\\n \\n\\nAbbott Laboratories (contract by Hiregenics) | Lake Forest, IL                                                         May 2017 – August 2017 \\nSupply Chain Operations Intern  \\n\\n▪  Built VBA algorithm to optimize box utilization (N-P problem); reduced average chargeable shipment cost by        \\n\\n29.9%, increased box utilization by 12.1%, reduced average shipment volume by 297.4 inch3 \\n▪  Performed trend analysis for top tier customers to quantify benefits of order consolidation  \\n▪  Simulated packing area using Arena; recommendation reduced packing time by 2.8 minutes per unit \\n▪  Studied outbound dock using pallet density hourly data; proposed dock composite performance index \\n\\n \\n\\n \\n\\nRESEARCH EXPERIENCE \\n\\nKraft Heinz People Analytics | Chicago, IL                                                                                 March 2019 – Present \\nCapstone Project: In and Out Analysis \\n\\n▪  Designed a supervised machine learning model to predict employee churn date and likely destination \\n▪  Built a supervised machine learning model to predict probability of recruitment success for a given candidate \\n\\nShared Vehicle Routing | Troy, NY                                                                                      May 2017 – August 2017 \\nResearcher for Professor Jennifer Pazour’s OnRout team  \\n\\n▪  Performed shared vehicle routing analysis for startup company OnRout to analyze duplicate effort by couriers \\n▪  Suggested optimal level of courier sharing; hypothetical optimal level of sharing increased stops/mile by 28%, \\n\\ndecreased total distance travelled by couriers by 19% \\n\\n▪  Built simulation TSP model for different couriers operating in a common location \\n\\n \\n\\nTelevision Manufacturing Innovation | Troy, NY                                                           January 2016 – August 2017 \\nResearcher for Professor Kenneth Simons  \\n\\n▪  Code industry-wide model for television receiver manufacturing processes and innovations. Observed 259 \\n\\nmanufacturing innovations/processes from 1941 to 1971 \\nIdentify target innovation characteristics yielding maximum economic efficiencies \\n\\n▪ \\n▪  Analyze discrepancies and compare results using Excel, Stata, and R \\n\\n \\n\\n \\n\\nSKILLS AND LANGUAGES \\n\\n \\n\\n \\n\\nTechnical: R, Python, VBA, SQL, MS Office, Tableau, Arena, Julia, SAP, Keras, TensorFlow, Stata, Hadoop, Spark, Neo4j \\nLanguages: English (fluent), Arabic (fluent)  \\n\\n \\n\\n \\n\\nCO-CURRICULARS \\nPhotography: photography-omaralshaye.com; President of UChicago and RPI Photography; Supervised 112 members \\nAlpha Pi Mu Honor Society: Promote Outreach to I.E Community; President of Rensselaer Chapter 2016-2018 \\n\\n \\n\\n \\n\\n \\n\\n\\x0c'"
      ]
     },
     "execution_count": 36,
     "metadata": {},
     "output_type": "execute_result"
    }
   ],
   "source": [
    "x.text"
   ]
  },
  {
   "cell_type": "markdown",
   "metadata": {},
   "source": [
    "# Cleaning up Kaggle data"
   ]
  },
  {
   "cell_type": "code",
   "execution_count": 63,
   "metadata": {},
   "outputs": [],
   "source": [
    "# kaggle = pd.read_csv('~/PycharmProjects/Resume-Parser/data/input/resumes/Kaggle_resume_dataset.csv', usecols=[0, 1, 2])"
   ]
  },
  {
   "cell_type": "code",
   "execution_count": 116,
   "metadata": {},
   "outputs": [],
   "source": [
    "# kaggle.to_csv('~/PycharmProjects/Resume-Parser/data/input/resumes/Kaggle_resume_dataset.csv', index=False)"
   ]
  },
  {
   "cell_type": "code",
   "execution_count": 207,
   "metadata": {},
   "outputs": [
    {
     "data": {
      "text/plain": [
       "5171348"
      ]
     },
     "execution_count": 207,
     "metadata": {},
     "output_type": "execute_result"
    }
   ],
   "source": [
    "import os\n",
    "os.path.getsize('data/input/resumes/Kaggle_resume_dataset.csv')"
   ]
  },
  {
   "cell_type": "code",
   "execution_count": 855,
   "metadata": {},
   "outputs": [],
   "source": [
    "# pd.set_option('max_colwidth', 100)"
   ]
  },
  {
   "cell_type": "code",
   "execution_count": 206,
   "metadata": {
    "scrolled": true
   },
   "outputs": [],
   "source": [
    "# import random\n",
    "# kaggle.text[random.randint(0, len(kaggle))]"
   ]
  },
  {
   "cell_type": "code",
   "execution_count": 204,
   "metadata": {},
   "outputs": [],
   "source": [
    "# for i in kaggle.index:\n",
    "#     if kaggle.text.loc[i].find('PROFESSIONAL ACTIVITIES') != -1:\n",
    "#         print(i)"
   ]
  },
  {
   "cell_type": "code",
   "execution_count": 205,
   "metadata": {
    "scrolled": true
   },
   "outputs": [],
   "source": [
    "# counts = 0\n",
    "# for i in kaggle.index:\n",
    "#     if kaggle.text.loc[i].lower().find('\\\\xa8') != -1:\n",
    "#         kaggle.text.loc[i] = kaggle.text.loc[i].replace('\\\\xa8', '')\n",
    "#         counts = counts + 1\n",
    "# print(counts)"
   ]
  },
  {
   "cell_type": "code",
   "execution_count": 88,
   "metadata": {},
   "outputs": [],
   "source": [
    "# kaggle.drop(830, axis=0, inplace=True)"
   ]
  },
  {
   "cell_type": "code",
   "execution_count": null,
   "metadata": {},
   "outputs": [],
   "source": [
    "# kaggle = kaggle.reset_index(drop=True)"
   ]
  }
 ],
 "metadata": {
  "kernelspec": {
   "display_name": "Python 3",
   "language": "python",
   "name": "python3"
  },
  "language_info": {
   "codemirror_mode": {
    "name": "ipython",
    "version": 3
   },
   "file_extension": ".py",
   "mimetype": "text/x-python",
   "name": "python",
   "nbconvert_exporter": "python",
   "pygments_lexer": "ipython3",
   "version": "3.6.8"
  }
 },
 "nbformat": 4,
 "nbformat_minor": 2
}
